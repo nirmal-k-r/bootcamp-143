{
 "cells": [
  {
   "cell_type": "code",
   "execution_count": 11,
   "metadata": {},
   "outputs": [
    {
     "name": "stdout",
     "output_type": "stream",
     "text": [
      "Sucessfully connected to the database\n"
     ]
    }
   ],
   "source": [
    "import psycopg2\n",
    "\n",
    "def connection(db_name, db_user,db_password,db_host,db_port):\n",
    "    try:\n",
    "        conn = psycopg2.connect(\n",
    "            dbname=db_name,\n",
    "            user=db_user,\n",
    "            password=db_password,\n",
    "            host=db_host,\n",
    "            port=db_port\n",
    "        )\n",
    "        print('Sucessfully connected to the database')\n",
    "        return conn\n",
    "    \n",
    "    except Exception as e:\n",
    "        print(f\"Error during connection {str(e)}\")\n",
    "        return None\n",
    "    \n",
    "#create connection\n",
    "params={\n",
    "    \"db_name\": \"class143\",\n",
    "    \"db_user\": \"class143_owner\",\n",
    "    \"db_password\": 'BThOV0lZb3YU',\n",
    "    \"db_host\": 'ep-holy-lab-a2xm39f8.eu-central-1.aws.neon.tech',\n",
    "    \"db_port\": 5432 \n",
    "}\n",
    "\n",
    "conn=connection(**params)\n",
    "\n",
    "conn.autocommit=True"
   ]
  },
  {
   "cell_type": "code",
   "execution_count": 12,
   "metadata": {},
   "outputs": [],
   "source": [
    "def execute_query(conn, query):\n",
    "    try:\n",
    "        cursor = conn.cursor()\n",
    "        cursor.execute(query)\n",
    "        # print('Query executed successfully')\n",
    "        return cursor\n",
    "\n",
    "    except Exception as e:\n",
    "        print(f\"Error: {str(e)}\")\n",
    "        return None"
   ]
  },
  {
   "cell_type": "code",
   "execution_count": 13,
   "metadata": {},
   "outputs": [
    {
     "name": "stdout",
     "output_type": "stream",
     "text": [
      "(1, 'Mazda', 'Axela', 'Purple')\n",
      "(2, 'Audi', 'Q7', 'Black')\n"
     ]
    }
   ],
   "source": [
    "query=\"SELECT * FROM cars\"\n",
    "results=execute_query(conn, query).fetchall()\n",
    "\n",
    "\n",
    "for result in results:\n",
    "    print(result)\n",
    "    # print(result[1])"
   ]
  },
  {
   "cell_type": "code",
   "execution_count": 15,
   "metadata": {},
   "outputs": [
    {
     "name": "stdout",
     "output_type": "stream",
     "text": [
      "[('Mazda',), ('Audi',)]\n"
     ]
    }
   ],
   "source": [
    "def search(table,column):\n",
    "    query=f\"SELECT {column} FROM {table}\"\n",
    "    results=execute_query(conn, query).fetchall()\n",
    "    return results\n",
    "\n",
    "print(search('cars','make'))\n",
    "    "
   ]
  },
  {
   "cell_type": "code",
   "execution_count": 16,
   "metadata": {},
   "outputs": [
    {
     "data": {
      "text/plain": [
       "<cursor object at 0x10905e3e0; closed: 0>"
      ]
     },
     "execution_count": 16,
     "metadata": {},
     "output_type": "execute_result"
    }
   ],
   "source": [
    "query=\"Create table cars2(id Serial Primary key,make Varchar(100) Not null,model Varchar(100) Not null,color Varchar(100));\"\n",
    "execute_query(conn, query)"
   ]
  },
  {
   "cell_type": "code",
   "execution_count": 17,
   "metadata": {},
   "outputs": [
    {
     "data": {
      "text/plain": [
       "<cursor object at 0x10905e6b0; closed: 0>"
      ]
     },
     "execution_count": 17,
     "metadata": {},
     "output_type": "execute_result"
    }
   ],
   "source": [
    "query='Drop table cars2'\n",
    "execute_query(conn, query)"
   ]
  }
 ],
 "metadata": {
  "kernelspec": {
   "display_name": "Python 3",
   "language": "python",
   "name": "python3"
  },
  "language_info": {
   "codemirror_mode": {
    "name": "ipython",
    "version": 3
   },
   "file_extension": ".py",
   "mimetype": "text/x-python",
   "name": "python",
   "nbconvert_exporter": "python",
   "pygments_lexer": "ipython3",
   "version": "3.10.2"
  }
 },
 "nbformat": 4,
 "nbformat_minor": 2
}
