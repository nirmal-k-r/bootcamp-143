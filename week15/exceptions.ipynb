{
 "cells": [
  {
   "cell_type": "code",
   "execution_count": 6,
   "metadata": {},
   "outputs": [
    {
     "ename": "NameError",
     "evalue": "name 'prnt' is not defined",
     "output_type": "error",
     "traceback": [
      "\u001b[0;31m---------------------------------------------------------------------------\u001b[0m",
      "\u001b[0;31mNameError\u001b[0m                                 Traceback (most recent call last)",
      "Cell \u001b[0;32mIn[6], line 5\u001b[0m\n\u001b[1;32m      1\u001b[0m \u001b[38;5;66;03m#syntax errors\u001b[39;00m\n\u001b[1;32m      2\u001b[0m \n\u001b[1;32m      3\u001b[0m \u001b[38;5;66;03m# print('hello world')\u001b[39;00m\n\u001b[0;32m----> 5\u001b[0m \u001b[43mprnt\u001b[49m(\u001b[38;5;124m'\u001b[39m\u001b[38;5;124mhello world\u001b[39m\u001b[38;5;124m'\u001b[39m) \u001b[38;5;66;03m#grammatical error\u001b[39;00m\n",
      "\u001b[0;31mNameError\u001b[0m: name 'prnt' is not defined"
     ]
    }
   ],
   "source": [
    "#syntax errors\n",
    "\n",
    "# print('hello world')\n",
    "\n",
    "prnt('hello world') #grammatical error\n"
   ]
  },
  {
   "cell_type": "code",
   "execution_count": 3,
   "metadata": {},
   "outputs": [
    {
     "ename": "ZeroDivisionError",
     "evalue": "division by zero",
     "output_type": "error",
     "traceback": [
      "\u001b[0;31m---------------------------------------------------------------------------\u001b[0m",
      "\u001b[0;31mZeroDivisionError\u001b[0m                         Traceback (most recent call last)",
      "Cell \u001b[0;32mIn[3], line 6\u001b[0m\n\u001b[1;32m      3\u001b[0m a\u001b[38;5;241m=\u001b[39m\u001b[38;5;241m10\u001b[39m\n\u001b[1;32m      4\u001b[0m b\u001b[38;5;241m=\u001b[39m\u001b[38;5;241m0\u001b[39m\n\u001b[0;32m----> 6\u001b[0m c\u001b[38;5;241m=\u001b[39m\u001b[43ma\u001b[49m\u001b[38;5;241;43m/\u001b[39;49m\u001b[43mb\u001b[49m\n\u001b[1;32m      7\u001b[0m \u001b[38;5;28mprint\u001b[39m(c) \u001b[38;5;66;03m#division by zero error\u001b[39;00m\n",
      "\u001b[0;31mZeroDivisionError\u001b[0m: division by zero"
     ]
    }
   ],
   "source": [
    "#logical errors\n",
    "\n",
    "a=10\n",
    "b=0\n",
    "\n",
    "c=a/b\n",
    "print(c) #division by zero error"
   ]
  },
  {
   "cell_type": "code",
   "execution_count": 4,
   "metadata": {},
   "outputs": [
    {
     "name": "stdout",
     "output_type": "stream",
     "text": [
      "Starting\n"
     ]
    },
    {
     "ename": "ZeroDivisionError",
     "evalue": "division by zero",
     "output_type": "error",
     "traceback": [
      "\u001b[0;31m---------------------------------------------------------------------------\u001b[0m",
      "\u001b[0;31mZeroDivisionError\u001b[0m                         Traceback (most recent call last)",
      "Cell \u001b[0;32mIn[4], line 4\u001b[0m\n\u001b[1;32m      2\u001b[0m a\u001b[38;5;241m=\u001b[39m\u001b[38;5;241m10\u001b[39m\n\u001b[1;32m      3\u001b[0m b\u001b[38;5;241m=\u001b[39m\u001b[38;5;241m0\u001b[39m\n\u001b[0;32m----> 4\u001b[0m c\u001b[38;5;241m=\u001b[39m\u001b[43ma\u001b[49m\u001b[38;5;241;43m/\u001b[39;49m\u001b[43mb\u001b[49m\n\u001b[1;32m      6\u001b[0m \u001b[38;5;28mprint\u001b[39m(\u001b[38;5;124m'\u001b[39m\u001b[38;5;124mEnding\u001b[39m\u001b[38;5;124m'\u001b[39m)\n",
      "\u001b[0;31mZeroDivisionError\u001b[0m: division by zero"
     ]
    }
   ],
   "source": [
    "print('Starting')\n",
    "a=10\n",
    "b=0\n",
    "c=a/b\n",
    "\n",
    "print('Ending')"
   ]
  },
  {
   "cell_type": "code",
   "execution_count": 9,
   "metadata": {},
   "outputs": [
    {
     "name": "stdout",
     "output_type": "stream",
     "text": [
      "Starting\n",
      "There was an error\n",
      "Ending\n"
     ]
    }
   ],
   "source": [
    "#exception handling\n",
    "\n",
    "print('Starting')\n",
    "\n",
    "try: #code runs until it encounters an error\n",
    "    a=10\n",
    "    b=0\n",
    "    c=a/b\n",
    "    print(c)\n",
    "except: #if an error is encountered, the code in this block is executed\n",
    "    print('There was an error') \n",
    "\n",
    "\n",
    "print('Ending')"
   ]
  },
  {
   "cell_type": "code",
   "execution_count": 11,
   "metadata": {},
   "outputs": [
    {
     "name": "stdout",
     "output_type": "stream",
     "text": [
      "Starting\n",
      "There was an error: division by zero\n",
      "Ending\n"
     ]
    }
   ],
   "source": [
    "#exception handling\n",
    "\n",
    "print('Starting')\n",
    "\n",
    "try: \n",
    "    a=10    \n",
    "    b=0\n",
    "    c=a/b\n",
    "    print(c)\n",
    "except Exception as e: #prints the error\n",
    "    print(f'There was an error: {e}') \n",
    "\n",
    "\n",
    "print('Ending')"
   ]
  },
  {
   "cell_type": "code",
   "execution_count": 14,
   "metadata": {},
   "outputs": [
    {
     "name": "stdout",
     "output_type": "stream",
     "text": [
      "Starting\n",
      "There was an error: division by zero\n",
      "Ending\n"
     ]
    }
   ],
   "source": [
    "#exception handling\n",
    "\n",
    "print('Starting')\n",
    "\n",
    "try:\n",
    "    a=10\n",
    "    b=0\n",
    "    c=a/b\n",
    "    print(c)\n",
    "\n",
    "except Exception as e:\n",
    "    print(f'There was an error: {e}') \n",
    "\n",
    "else: #if there is no error, this block is executed\n",
    "    print('There was no error')\n",
    "    \n",
    "\n",
    "print('Ending')"
   ]
  },
  {
   "cell_type": "code",
   "execution_count": 16,
   "metadata": {},
   "outputs": [
    {
     "name": "stdout",
     "output_type": "stream",
     "text": [
      "Starting\n",
      "10.0\n",
      "There was no error\n",
      "This is the end of the program\n",
      "Ending\n"
     ]
    }
   ],
   "source": [
    "#exception handling\n",
    "\n",
    "print('Starting')\n",
    "\n",
    "try:\n",
    "    a=10\n",
    "    b=1\n",
    "    c=a/b\n",
    "    print(c)\n",
    "\n",
    "except Exception as e:\n",
    "    print(f'There was an error: {e}') \n",
    "\n",
    "else:\n",
    "    print('There was no error')\n",
    "\n",
    "finally: #this block is always executed regardless of whether there is an error or not\n",
    "    print('This is the end of the program')\n",
    "\n",
    "    \n",
    "\n",
    "print('Ending')"
   ]
  }
 ],
 "metadata": {
  "kernelspec": {
   "display_name": "Python 3",
   "language": "python",
   "name": "python3"
  },
  "language_info": {
   "codemirror_mode": {
    "name": "ipython",
    "version": 3
   },
   "file_extension": ".py",
   "mimetype": "text/x-python",
   "name": "python",
   "nbconvert_exporter": "python",
   "pygments_lexer": "ipython3",
   "version": "3.10.2"
  }
 },
 "nbformat": 4,
 "nbformat_minor": 2
}
