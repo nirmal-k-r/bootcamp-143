{
 "cells": [
  {
   "cell_type": "code",
   "execution_count": 63,
   "metadata": {},
   "outputs": [],
   "source": [
    "class Employee:\n",
    "    def __init__(self,id,name,address,department):\n",
    "        self.id = id\n",
    "        self.name = name\n",
    "        self.address = address\n",
    "        self.department = department\n",
    "\n",
    "    def info(self):\n",
    "        print(f\"ID: {self.id}\\nName: {self.name}\\nAddress: {self.address}\\nDepartment: {self.department}\")"
   ]
  },
  {
   "cell_type": "code",
   "execution_count": 64,
   "metadata": {},
   "outputs": [],
   "source": [
    "class PartTimeEmployee(Employee):\n",
    "    def __init__(self, id, name,address, department, hourly_rate, hours_worked):\n",
    "        Employee.__init__(self,id,name,address,department)\n",
    "        self.hourly_rate = hourly_rate\n",
    "        self.hours_worked = hours_worked"
   ]
  },
  {
   "cell_type": "code",
   "execution_count": 65,
   "metadata": {},
   "outputs": [],
   "source": [
    "class FullTimeEmployee(Employee):\n",
    "    def __init__(self,id,name,address,department,salary):\n",
    "        Employee.__init__(self,id,name,address,department)\n",
    "        self.salary = salary\n",
    "\n",
    "    def info(self):\n",
    "        Employee.info(self)\n",
    "        print(f\"Salary: {self.salary}\")"
   ]
  },
  {
   "cell_type": "code",
   "execution_count": 66,
   "metadata": {},
   "outputs": [],
   "source": [
    "class SuperEmployee(FullTimeEmployee,PartTimeEmployee):\n",
    "    def __init__(self,id,name,address,department,salary,hourly_rate,hours_worked):\n",
    "        FullTimeEmployee.__init__(self,id,name,address,department,salary)\n",
    "        PartTimeEmployee.__init__(self,id,name,address,department,hourly_rate,hours_worked)\n",
    "\n",
    "    def info(self):\n",
    "        FullTimeEmployee.info(self)\n",
    "        print(f\"Hourly Rate: {self.hourly_rate}\\nHours Worked: {self.hours_worked}\")\n"
   ]
  },
  {
   "cell_type": "code",
   "execution_count": 67,
   "metadata": {},
   "outputs": [
    {
     "name": "stdout",
     "output_type": "stream",
     "text": [
      "ID: 1\n",
      "Name: Nirmal\n",
      "Address: Curepipe\n",
      "Department: IT\n",
      "Salary: 50000\n",
      "--------\n",
      "ID: 2\n",
      "Name: Tom\n",
      "Address: Rose Hill\n",
      "Department: IT\n",
      "--------\n",
      "ID: 3\n",
      "Name: Eric\n",
      "Address: Vacoas\n",
      "Department: IT\n",
      "Salary: 50000\n",
      "Hourly Rate: 1000\n",
      "Hours Worked: 40\n"
     ]
    }
   ],
   "source": [
    "nirmal=FullTimeEmployee(1,\"Nirmal\",\"Curepipe\",\"IT\",50000)\n",
    "nirmal.info()\n",
    "\n",
    "print('--------')\n",
    "\n",
    "tom=PartTimeEmployee(2,\"Tom\",\"Rose Hill\",\"IT\",1000,40)\n",
    "tom.info()\n",
    "\n",
    "print('--------')\n",
    "eric=SuperEmployee(3,\"Eric\",\"Vacoas\",\"IT\",50000,1000,40)\n",
    "eric.info()"
   ]
  },
  {
   "cell_type": "code",
   "execution_count": 68,
   "metadata": {},
   "outputs": [
    {
     "name": "stdout",
     "output_type": "stream",
     "text": [
      "blue\n"
     ]
    }
   ],
   "source": [
    "class Circle:\n",
    "    color = \"red\"\n",
    "\n",
    "class NewCircle(Circle):\n",
    "    color = \"blue\"\n",
    "\n",
    "mycircle = NewCircle()\n",
    "print(mycircle.color)\n"
   ]
  },
  {
   "cell_type": "code",
   "execution_count": 69,
   "metadata": {},
   "outputs": [
    {
     "name": "stdout",
     "output_type": "stream",
     "text": [
      "1\n",
      "4\n"
     ]
    }
   ],
   "source": [
    "class Circle:\n",
    "    def __init__(self, diameter):\n",
    "      self.diameter = diameter\n",
    "\n",
    "    def grow(self, factor=2):\n",
    "        \"\"\"grows the circle's diameter by factor\"\"\"\n",
    "        self.diameter = self.diameter * factor\n",
    "\n",
    "class NewCircle(Circle):\n",
    "    def grow(self, factor=2):\n",
    "        \"\"\"grows the area by factor...\"\"\"\n",
    "        self.diameter = (self.diameter * factor * 2)\n",
    "\n",
    "nc = NewCircle(1)\n",
    "print(nc.diameter)\n",
    "\n",
    "nc.grow()\n",
    "\n",
    "print(nc.diameter)"
   ]
  },
  {
   "cell_type": "code",
   "execution_count": 70,
   "metadata": {},
   "outputs": [
    {
     "name": "stdout",
     "output_type": "stream",
     "text": [
      "Roar roar\n",
      "------\n",
      "Woof woof\n",
      "------\n",
      "Meow meow\n",
      "------\n",
      "Lion says:\n",
      "Roar roar\n",
      "Rex says:\n",
      "Woof woof\n",
      "Garfield says:\n",
      "Meow meow\n"
     ]
    }
   ],
   "source": [
    "class Animal:\n",
    "    def __init__(self, name):\n",
    "        self.name = name\n",
    "\n",
    "    def speak(self):\n",
    "        print('Roar roar')\n",
    "\n",
    "    \n",
    "\n",
    "class Dog(Animal):\n",
    "    def __init__(self, name, breed):\n",
    "        Animal.__init__(self, name)\n",
    "        self.breed = breed\n",
    "    \n",
    "    def speak(self):\n",
    "        # Animal.speak(self)\n",
    "        print('Woof woof')\n",
    "\n",
    "class Cat(Animal):\n",
    "    def __init__(self, name):\n",
    "        Animal.__init__(self, name)\n",
    "    \n",
    "    def speak(self):\n",
    "        print('Meow meow')\n",
    "\n",
    "#main program\n",
    "\n",
    "#interface\n",
    "def sound(current_animal): #takes an object as input\n",
    "    print(f'{current_animal.name} says:')\n",
    "    current_animal.speak()\n",
    "\n",
    "\n",
    "lion=Animal(\"Lion\")\n",
    "lion.speak()\n",
    "print('------')\n",
    "        \n",
    "rex=Dog(\"Rex\",\"Bulldog\")\n",
    "rex.speak()\n",
    "\n",
    "print('------')\n",
    "garfield=Cat(\"Garfield\")\n",
    "garfield.speak()\n",
    "\n",
    "print('------')\n",
    "animals=[lion,rex,garfield]\n",
    "\n",
    "for animal in animals:\n",
    "    sound(animal)"
   ]
  },
  {
   "cell_type": "code",
   "execution_count": 71,
   "metadata": {},
   "outputs": [
    {
     "name": "stdout",
     "output_type": "stream",
     "text": [
      "doing this in A\n"
     ]
    }
   ],
   "source": [
    "class A():\n",
    "    def dothis(self):\n",
    "        print(\"doing this in A\")\n",
    "\n",
    "\n",
    "class B(A):\n",
    "    pass\n",
    "\n",
    "\n",
    "class C():\n",
    "    def dothis(self):\n",
    "        print(\"doing this in C\")\n",
    "\n",
    "\n",
    "class D(B, C):\n",
    "    pass\n",
    "\n",
    "\n",
    "d_instance = D()\n",
    "d_instance.dothis() \n"
   ]
  },
  {
   "cell_type": "code",
   "execution_count": 72,
   "metadata": {},
   "outputs": [
    {
     "name": "stdout",
     "output_type": "stream",
     "text": [
      "Woow this is an awesome book\n",
      "Title: Asimov\n",
      "5£\n",
      "False\n",
      "I am very bored\n",
      "True\n"
     ]
    }
   ],
   "source": [
    "class Book():\n",
    "    def __init__(self, title, author, publication_date, price):\n",
    "        self.title = title\n",
    "        self.author = author\n",
    "        self.publication = publication_date\n",
    "        self.price = price\n",
    "\n",
    "    def present(self):\n",
    "        print(f'Title: {self.title}')\n",
    "\n",
    "class Fiction(Book):\n",
    "    def __init__(self, title, author, publication_date, price, is_awesome):\n",
    "        super().__init__(title, author, publication_date, price)\n",
    "        self.genre = 'Fiction'\n",
    "        self.is_awesome = is_awesome\n",
    "        if self.is_awesome:\n",
    "            self.bored = False\n",
    "            print('Woow this is an awesome book')\n",
    "        else:\n",
    "            self.bored = True\n",
    "            print('I am very bored')\n",
    "\n",
    "if __name__ == '__main__':\n",
    "    foundation = Fiction('Asimov', 'Foundation', '1966', '5£', True)\n",
    "    foundation.present()\n",
    "    print(foundation.price)\n",
    "    print(foundation.bored)\n",
    "    boring_book = Fiction('boring_guy', 'boring_title', 'boring_date', '9000£', False)\n",
    "    print(boring_book.bored)"
   ]
  },
  {
   "cell_type": "code",
   "execution_count": 73,
   "metadata": {},
   "outputs": [
    {
     "name": "stdout",
     "output_type": "stream",
     "text": [
      "Name: Tom\n",
      "NIC: 123456789\n",
      "Address: Rose Hill\n",
      "-------\n",
      "Name: Monkey\n",
      "NIC: 123456789\n",
      "Address: Rose Hill\n",
      "-------\n",
      "Name: Eric\n",
      "NIC: 987654321\n",
      "Address: Vacoas\n",
      "Phone: 1234567\n",
      "-------\n",
      "Name: Donkey\n",
      "NIC: 987654321\n",
      "Address: Vacoas\n",
      "Phone: 1234567\n",
      "-------\n"
     ]
    }
   ],
   "source": [
    "class Person:\n",
    "    def __init__(self, name, NIC, address):\n",
    "        self.name = name #public attributes\n",
    "        self.NIC = NIC\n",
    "        self.address = address\n",
    "\n",
    "    def info(self):\n",
    "        print(f\"Name: {self.name}\\nNIC: {self.NIC}\\nAddress: {self.address}\")\n",
    "\n",
    "class Customer(Person):\n",
    "    def __init__(self, name, NIC, address, phone):\n",
    "        Person.__init__(self, name, NIC, address)\n",
    "        self.phone = phone\n",
    "\n",
    "    def info(self):\n",
    "        Person.info(self)\n",
    "        print(f\"Phone: {self.phone}\")\n",
    "\n",
    "#main program\n",
    "tom=Person(\"Tom\",\"123456789\",\"Rose Hill\")\n",
    "tom.info()\n",
    "\n",
    "print('-------')\n",
    "tom.name='Monkey'\n",
    "tom.info()\n",
    "\n",
    "\n",
    "print('-------')\n",
    "eric=Customer(\"Eric\",\"987654321\",\"Vacoas\",\"1234567\")\n",
    "eric.info()\n",
    "print('-------')\n",
    "eric.name='Donkey'\n",
    "eric.info()\n",
    "print('-------')"
   ]
  },
  {
   "cell_type": "code",
   "execution_count": 78,
   "metadata": {},
   "outputs": [
    {
     "name": "stdout",
     "output_type": "stream",
     "text": [
      "Name: Tom\n",
      "NIC: 123456789\n",
      "Address: Rose Hill\n",
      "This is a private method\n",
      "-------\n",
      "Name: Tom\n",
      "NIC: 123456789\n",
      "Address: Rose Hill\n",
      "This is a private method\n",
      "-------\n",
      "Name: Tom2\n",
      "NIC: 123456789\n",
      "Address: Rose Hill\n",
      "This is a private method\n",
      "-------\n",
      "Name: Eric\n",
      "NIC: 987654321\n",
      "Address: Vacoas\n",
      "This is a private method\n",
      "Phone: 1234567\n",
      "-------\n",
      "Name: Eric\n",
      "NIC: 987654321\n",
      "Address: Vacoas\n",
      "This is a private method\n",
      "Phone: 1234567\n",
      "-------\n"
     ]
    }
   ],
   "source": [
    "class Person:\n",
    "    def __init__(self, name, NIC, address):\n",
    "        self.__name = name #private attribute\n",
    "        self.__NIC = NIC\n",
    "        self.address = address\n",
    "\n",
    "    def info(self):\n",
    "        print(f\"Name: {self.__name}\\nNIC: {self.__NIC}\\nAddress: {self.address}\")\n",
    "        self.__data()\n",
    "    \n",
    "    def __data(self):\n",
    "        print('This is a private method')\n",
    "\n",
    "    def set_name(self, name):\n",
    "        self.__name = name\n",
    "\n",
    "class Customer(Person):\n",
    "    def __init__(self, name, NIC, address, phone):\n",
    "        Person.__init__(self, name, NIC, address)\n",
    "        self.__phone = phone\n",
    "\n",
    "    def info(self):\n",
    "        Person.info(self)\n",
    "        print(f\"Phone: {self.__phone}\")\n",
    "\n",
    "#main program\n",
    "tom=Person(\"Tom\",\"123456789\",\"Rose Hill\")\n",
    "tom.info()\n",
    "# tom.__data()\n",
    "\n",
    "print('-------')\n",
    "tom.__name='Monkey'\n",
    "tom.info()\n",
    "\n",
    "print('-------')\n",
    "tom.set_name('Tom2')\n",
    "tom.info()\n",
    "\n",
    "\n",
    "print('-------')\n",
    "eric=Customer(\"Eric\",\"987654321\",\"Vacoas\",\"1234567\")\n",
    "eric.info()\n",
    "print('-------')\n",
    "eric.name='Donkey'\n",
    "eric.info()\n",
    "print('-------')"
   ]
  }
 ],
 "metadata": {
  "kernelspec": {
   "display_name": "Python 3",
   "language": "python",
   "name": "python3"
  },
  "language_info": {
   "codemirror_mode": {
    "name": "ipython",
    "version": 3
   },
   "file_extension": ".py",
   "mimetype": "text/x-python",
   "name": "python",
   "nbconvert_exporter": "python",
   "pygments_lexer": "ipython3",
   "version": "3.10.2"
  }
 },
 "nbformat": 4,
 "nbformat_minor": 2
}
