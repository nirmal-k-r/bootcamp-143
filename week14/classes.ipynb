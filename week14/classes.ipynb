{
 "cells": [
  {
   "cell_type": "code",
   "execution_count": 1,
   "metadata": {},
   "outputs": [],
   "source": [
    "#defining a class\n",
    "class Car:\n",
    "    pass"
   ]
  },
  {
   "cell_type": "code",
   "execution_count": 2,
   "metadata": {},
   "outputs": [],
   "source": [
    "#initializing an object\n",
    "\n",
    "myCar=Car()"
   ]
  },
  {
   "cell_type": "code",
   "execution_count": 3,
   "metadata": {},
   "outputs": [
    {
     "name": "stdout",
     "output_type": "stream",
     "text": [
      "Toyota\n",
      "Corolla\n",
      "Black\n",
      "Red\n"
     ]
    }
   ],
   "source": [
    "#setting the class attributes\n",
    "\n",
    "myNewCar=Car()\n",
    "myNewCar.model=\"Toyota\" \n",
    "myNewCar.make='Corolla'\n",
    "myNewCar.color='Black'\n",
    "\n",
    "print(myNewCar.model)\n",
    "print(myNewCar.make)\n",
    "print(myNewCar.color)\n",
    "\n",
    "myNewCar.color='Red' \n",
    "print(myNewCar.color)\n",
    "\n"
   ]
  },
  {
   "cell_type": "code",
   "execution_count": 4,
   "metadata": {},
   "outputs": [
    {
     "name": "stdout",
     "output_type": "stream",
     "text": [
      "Mazda\n",
      "CX-5\n",
      "White\n",
      "-------\n",
      "Ford\n",
      "Fiesta\n",
      "Black\n"
     ]
    }
   ],
   "source": [
    "#defining a class with a constructor\n",
    "\n",
    "class Car:\n",
    "    def __init__(self,make,model,color='Black'): #constructor\n",
    "        self.make=make\n",
    "        self.model=model\n",
    "        self.color=color\n",
    "\n",
    "myCar3=Car('Mazda','CX-5','White') #creating an object of the class Car\n",
    "\n",
    "print(myCar3.make)\n",
    "print(myCar3.model)\n",
    "print(myCar3.color)\n",
    "\n",
    "print('-------')\n",
    "\n",
    "ford=Car('Ford','Fiesta')\n",
    "print(ford.make)\n",
    "print(ford.model)\n",
    "print(ford.color)\n",
    "\n"
   ]
  },
  {
   "cell_type": "code",
   "execution_count": 5,
   "metadata": {},
   "outputs": [
    {
     "name": "stdout",
     "output_type": "stream",
     "text": [
      "Tommy\n",
      "German Shepherd\n",
      "Brown\n",
      "--------\n",
      "Woof! Woof!\n",
      "Woof! Woof!\n",
      "Tommy\n",
      "German Shepherd\n",
      "Black\n",
      "--------\n",
      "Tommy has walked 3000  steps\n",
      "Tommy has walked 10000  steps\n",
      "--------\n",
      "Max\n",
      "German Shepherd\n",
      "Black\n"
     ]
    }
   ],
   "source": [
    "class Dog:\n",
    "    def __init__(self,name,breed,color):\n",
    "        self.name=name\n",
    "        self.breed=breed\n",
    "        self.color=color\n",
    "\n",
    "    #adding behaviors to the class\n",
    "    def bark(self):\n",
    "        print('Woof! Woof!')\n",
    "\n",
    "    def info(self):\n",
    "        print(self.name)\n",
    "        print(self.breed)\n",
    "        print(self.color)\n",
    "\n",
    "    def walk(self,steps):\n",
    "        print(f'{self.name} has walked {steps}  steps')\n",
    "\n",
    "    def rename(self, new_name):\n",
    "        self.name=new_name\n",
    "\n",
    "#main program\n",
    "tommy=Dog('Tommy','German Shepherd','Brown')\n",
    "\n",
    "tommy.info()\n",
    "print('--------')\n",
    "tommy.bark()\n",
    "tommy.bark()\n",
    "\n",
    "\n",
    "tommy.color='Black'\n",
    "tommy.info()\n",
    "print('--------')\n",
    "\n",
    "tommy.walk(3000)\n",
    "tommy.walk(10000)\n",
    "\n",
    "print('--------')\n",
    "tommy.rename('Max')\n",
    "tommy.info()\n",
    "    "
   ]
  },
  {
   "cell_type": "code",
   "execution_count": null,
   "metadata": {},
   "outputs": [],
   "source": []
  }
 ],
 "metadata": {
  "kernelspec": {
   "display_name": "Python 3",
   "language": "python",
   "name": "python3"
  },
  "language_info": {
   "codemirror_mode": {
    "name": "ipython",
    "version": 3
   },
   "file_extension": ".py",
   "mimetype": "text/x-python",
   "name": "python",
   "nbconvert_exporter": "python",
   "pygments_lexer": "ipython3",
   "version": "3.10.2"
  }
 },
 "nbformat": 4,
 "nbformat_minor": 2
}
