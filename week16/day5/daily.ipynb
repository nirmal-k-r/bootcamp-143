{
 "cells": [
  {
   "cell_type": "code",
   "execution_count": 1,
   "metadata": {},
   "outputs": [
    {
     "name": "stdout",
     "output_type": "stream",
     "text": [
      "You can not stop Chuck Norris, nor can you hope to contain him.\n",
      "Chuck Norris has the greatest Poker-Face of all time. He won the 1983 World Series of Poker, despite holding only a Joker, a Get out of Jail Free Monopoloy card, a 2 of clubs, 7 of spades and a green #4 card from the game UNO.\n",
      "Taylor Swift used to be named Taylor Lethargic before Chuck Norris devirginised her.\n",
      "The easiset way for Chuck Norris to attract women is to turn up.\n",
      "If I had a nickel for every Chuck Norris joke out there...\n",
      "Chuck Norris burst the dot com bubble.\n",
      "Any movie featuring Chuck Norris in any way is classified as a Chuckumentary.\n",
      "Chuck Norris made One Direction go two ways.\n",
      "Chuck Norris dosent use airplanes to get to other countries, he just jumps from one continent to another.\n",
      "Chuck Norris is in everyone of the devil's nightmares\n",
      "if Chuck Norris stared on the movie \"taken\" the movie would have been called \"given back questions asked\"\n",
      "When you die you don't go to heaven, you go to Chuck Norris.\n",
      "It takes Chuck Norris 5 seconds to kick your ass... 80 times\n",
      "Humans start counting from 1. Computers start counting from 0. Chuck Norris starts counting from negative infinity.\n",
      "your life will flash before your eyes. that means Chuck Norris has roundhoused you\n",
      "The lord giveth and Chuck Norris taketh away!\n",
      "All your base are belong to Chuck Norris.\n",
      "How many roads must a man walk down, before you can call him a man? Don't ask Chuck Norris, he was considered a man by age four.\n",
      "Chuck Norris once made a mirror break just by beating up a person in front of it\n",
      "The rain in Spain falls mainly where Chuck Norris tells it to.\n",
      "If you ever see Chuck Norris' O face, you will turn to stone\n",
      "Chuck Norris can dribble a bowling ball.\n",
      "It's a little known fact that Chuck Norris's cat had a part in Harry Potter. To conceal her identity they called her \" Mrs Norris\".\n",
      "Chuck Norris can tow a 28 foot boat with his Volkswagen Bug.\n",
      "Chuck Norris does not kick doors in, they are backing away from him!\n",
      "The rule about never looking directly at the sun applies to looking into Chuck Norris' eyes as well.\n",
      "For every foot that comes well packed with force, fear, pain and suffering, that foot is connected to a leg and that leg, with muscles like steel, is bound forever strong to a creature known as Chuck Norris.\n",
      "Five Finger Death Punch and Twelve Foot Ninja are rock bands named after the way Chuck Norris killed a giant ninja.\n",
      "Chuck Norris was bitten by a Zombie. Shortly thereafter, the Zombie displayed greatly increased muscle mass and some serious bad-ass tendencies.\n",
      "The back of Chuck Norris' hands are always speckled with bone marrow.\n",
      "Time taken:  12.115905046463013 s\n"
     ]
    }
   ],
   "source": [
    "import requests\n",
    "import json\n",
    "import time\n",
    "\n",
    "def get_joke():\n",
    "    joke=requests.get(\"https://api.chucknorris.io/jokes/random\").json()['value']\n",
    "    print(joke)\n",
    "\n",
    "start=time.time()\n",
    "\n",
    "for i in range(30):\n",
    "    get_joke()\n",
    "\n",
    "end=time.time()\n",
    "print(\"Time taken: \",end-start,\"s\")"
   ]
  },
  {
   "cell_type": "code",
   "execution_count": 2,
   "metadata": {},
   "outputs": [
    {
     "name": "stdout",
     "output_type": "stream",
     "text": [
      "Time taken:  0.0023920536041259766 s\n"
     ]
    },
    {
     "name": "stderr",
     "output_type": "stream",
     "text": [
      "/var/folders/f0/8zss9bcx2pq3p607h6tvt1sr0000gn/T/ipykernel_54894/505684461.py:18: RuntimeWarning: coroutine 'main' was never awaited\n",
      "  main()\n",
      "RuntimeWarning: Enable tracemalloc to get the object allocation traceback\n"
     ]
    }
   ],
   "source": [
    "import requests\n",
    "import json\n",
    "import time\n",
    "import asyncio\n",
    "url=\"https://api.chucknorris.io/jokes/random\"\n",
    "\n",
    "async def get_joke():\n",
    "    joke = await requests.get(url).json()['value']\n",
    "    return joke\n",
    "\n",
    "async def main():\n",
    "    for i in range(30):\n",
    "        print(await get_joke())\n",
    "\n",
    "\n",
    "if __name__ == \"__main__\":\n",
    "    start=time.time()\n",
    "    main()\n",
    "    end=time.time()\n",
    "    print(\"Time taken: \",end-start,\"s\")"
   ]
  },
  {
   "cell_type": "code",
   "execution_count": 1,
   "metadata": {},
   "outputs": [],
   "source": [
    "import requests\n",
    "import json\n",
    "import time\n",
    "import threading\n",
    "url=\"https://api.chucknorris.io/jokes/random\"\n",
    "\n",
    "def get_joke():\n",
    "    return requests.get(url).json()['value']\n",
    "\n",
    "def main():\n",
    "    for i in range(1000):\n",
    "        print(f'{i}: {get_joke()}')\n",
    "\n",
    "\n",
    "if __name__ == \"__main__\":\n",
    "    start=time.time()\n",
    "    for i in range(1000):\n",
    "        threading.Thread(target=main).start()\n",
    "    end=time.time()\n",
    "    print(\"Time taken: \",end-start,\"s\")\n",
    "\n"
   ]
  },
  {
   "cell_type": "code",
   "execution_count": 1,
   "metadata": {},
   "outputs": [
    {
     "data": {
      "text/plain": [
       "['a', 'e', 'm', 't']"
      ]
     },
     "execution_count": 1,
     "metadata": {},
     "output_type": "execute_result"
    }
   ],
   "source": [
    "word='team'\n",
    "\n",
    "word=sorted(word)\n",
    "word"
   ]
  },
  {
   "cell_type": "code",
   "execution_count": 2,
   "metadata": {},
   "outputs": [
    {
     "data": {
      "text/plain": [
       "['a', 'e', 'm', 't']"
      ]
     },
     "execution_count": 2,
     "metadata": {},
     "output_type": "execute_result"
    }
   ],
   "source": [
    "word2='meat'\n",
    "word2=sorted(word2)\n",
    "word2"
   ]
  },
  {
   "cell_type": "code",
   "execution_count": 3,
   "metadata": {},
   "outputs": [
    {
     "name": "stdout",
     "output_type": "stream",
     "text": [
      "Anagram\n"
     ]
    }
   ],
   "source": [
    "if word==word2:\n",
    "    print(\"Anagram\")"
   ]
  }
 ],
 "metadata": {
  "kernelspec": {
   "display_name": "Python 3",
   "language": "python",
   "name": "python3"
  },
  "language_info": {
   "codemirror_mode": {
    "name": "ipython",
    "version": 3
   },
   "file_extension": ".py",
   "mimetype": "text/x-python",
   "name": "python",
   "nbconvert_exporter": "python",
   "pygments_lexer": "ipython3",
   "version": "3.10.2"
  }
 },
 "nbformat": 4,
 "nbformat_minor": 2
}
