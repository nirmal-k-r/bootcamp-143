{
 "cells": [
  {
   "cell_type": "code",
   "execution_count": 154,
   "metadata": {},
   "outputs": [
    {
     "name": "stdout",
     "output_type": "stream",
     "text": [
      "Time taken:  5.171089172363281\n"
     ]
    }
   ],
   "source": [
    "import time\n",
    "\n",
    "start=time.time()\n",
    "# Large number of iterations\n",
    "result = 0\n",
    "for i in range(1, 100000000):\n",
    "    result += i\n",
    "\n",
    "end=time.time()\n",
    "\n",
    "timetaken=end-start\n",
    "print(\"Time taken: \", timetaken)\n",
    "\n"
   ]
  },
  {
   "cell_type": "code",
   "execution_count": 155,
   "metadata": {},
   "outputs": [
    {
     "data": {
      "text/plain": [
       "datetime.datetime(2024, 6, 18, 0, 0)"
      ]
     },
     "execution_count": 155,
     "metadata": {},
     "output_type": "execute_result"
    }
   ],
   "source": [
    "import datetime\n",
    "string_date = \"18/06/2024\"\n",
    "\n",
    "dt = datetime.datetime.strptime(string_date, \"%d/%m/%Y\")\n",
    "dt"
   ]
  },
  {
   "cell_type": "code",
   "execution_count": 156,
   "metadata": {},
   "outputs": [
    {
     "name": "stdout",
     "output_type": "stream",
     "text": [
      "30000\n"
     ]
    }
   ],
   "source": [
    "class Employee:\n",
    "    def __init__(self, name, age):\n",
    "        self.name = name\n",
    "        self.age = age\n",
    "        self.bonus = 30000\n",
    "\n",
    "    def __str__(self):\n",
    "        return f\"{self.name} is {self.age} years old.\"\n",
    "    \n",
    "\n",
    "#main program\n",
    "tom=Employee(\"Tom\", 32)\n",
    "print(tom.bonus)"
   ]
  },
  {
   "cell_type": "code",
   "execution_count": 157,
   "metadata": {},
   "outputs": [
    {
     "name": "stdout",
     "output_type": "stream",
     "text": [
      "30000\n"
     ]
    }
   ],
   "source": [
    "class Employee:\n",
    "    bonus=30000 #class attribute\n",
    "    \n",
    "    def __init__(self, name, age):\n",
    "        self.name = name\n",
    "        self.age = age\n",
    "    \n",
    "\n",
    "    def __str__(self):\n",
    "        return f\"{self.name} is {self.age} years old.\"\n",
    "    \n",
    "\n",
    "#main program\n",
    "print(Employee.bonus)"
   ]
  },
  {
   "cell_type": "code",
   "execution_count": 158,
   "metadata": {},
   "outputs": [
    {
     "name": "stdout",
     "output_type": "stream",
     "text": [
      "A new dog has been initialized !\n",
      "His name is Rex\n",
      "A new dog has been initialized !\n",
      "His name is Bernie V\n",
      "Curently, there are 2 dogs\n"
     ]
    }
   ],
   "source": [
    "class Dog():\n",
    "    number_of_dogs = 0\n",
    "    dogs_king = \"Bernie IV\"\n",
    "\n",
    "    # Initializer / Instance Attributes\n",
    "    def __init__(self, name_of_the_dog):\n",
    "        print(\"A new dog has been initialized !\")\n",
    "        print(\"His name is\", name_of_the_dog)\n",
    "        self.name = name_of_the_dog\n",
    "        # Increment the number of dogs\n",
    "        Dog.number_of_dogs += 1\n",
    "\n",
    "    def bark(self):\n",
    "        print(\"{} barks ! WAF\".format(self.name))\n",
    "\n",
    "    def walk(self, number_of_meters):\n",
    "        print(\"{} walked {} meters\".format(self.name, number_of_meters))\n",
    "\n",
    "    def rename(self, new_name):\n",
    "        self.name = new_name\n",
    "\n",
    "my_dog = Dog(\"Rex\")\n",
    "my_dog2 = Dog(\"Bernie V\")\n",
    "print(\"Curently, there are {} dogs\".format(Dog.number_of_dogs))"
   ]
  },
  {
   "cell_type": "code",
   "execution_count": 159,
   "metadata": {},
   "outputs": [
    {
     "name": "stdout",
     "output_type": "stream",
     "text": [
      "5\n"
     ]
    }
   ],
   "source": [
    "class Calculator:\n",
    "    def __init__(self,model):\n",
    "        self.model=model\n",
    "\n",
    "    def add(self, number1, number2):\n",
    "        print(number1 + number2)\n",
    "\n",
    "\n",
    "calc=Calculator(\"Casio\")\n",
    "calc.add(2,3)"
   ]
  },
  {
   "cell_type": "code",
   "execution_count": 160,
   "metadata": {},
   "outputs": [
    {
     "name": "stdout",
     "output_type": "stream",
     "text": [
      "5\n"
     ]
    }
   ],
   "source": [
    "class Calculator:\n",
    "    def __init__(self,model):\n",
    "        self.model=model\n",
    "\n",
    "    @staticmethod\n",
    "    def add(number1, number2):\n",
    "        print(number1 + number2)\n",
    "\n",
    "\n",
    "Calculator.add(2,3)"
   ]
  },
  {
   "cell_type": "code",
   "execution_count": 161,
   "metadata": {},
   "outputs": [
    {
     "name": "stdout",
     "output_type": "stream",
     "text": [
      "Tommy Smith\n",
      "Tom Lee\n"
     ]
    }
   ],
   "source": [
    "class Person:\n",
    "    def __init__(self, first_name,last_name):\n",
    "        self.first_name=first_name\n",
    "        self.last_name=last_name\n",
    "        \n",
    "\n",
    "    @property\n",
    "    def name(self):\n",
    "        return self.first_name+\" \"+self.last_name\n",
    "\n",
    "    @name.setter\n",
    "    def name(self,new_name):\n",
    "        first,last=new_name.split(\" \")\n",
    "        self.first_name=first\n",
    "        self.last_name=last\n",
    "\n",
    "tom=Person(\"Tommy\",\"Smith\")\n",
    "print(tom.name)\n",
    "\n",
    "tom.name=\"Tom Lee\"\n",
    "print(tom.name)\n",
    "\n",
    "\n"
   ]
  },
  {
   "cell_type": "code",
   "execution_count": 162,
   "metadata": {},
   "outputs": [
    {
     "name": "stdout",
     "output_type": "stream",
     "text": [
      "5\n"
     ]
    }
   ],
   "source": [
    "x=[1,2,3,4,5]\n",
    "print(len(x))"
   ]
  },
  {
   "cell_type": "code",
   "execution_count": 163,
   "metadata": {},
   "outputs": [
    {
     "name": "stdout",
     "output_type": "stream",
     "text": [
      "<class 'str'>\n"
     ]
    }
   ],
   "source": [
    "name='tom'\n",
    "\n",
    "print(type(name))"
   ]
  },
  {
   "cell_type": "code",
   "execution_count": 164,
   "metadata": {},
   "outputs": [
    {
     "name": "stdout",
     "output_type": "stream",
     "text": [
      "Eric is 45 years old.\n",
      "Eric is being called\n",
      "4\n",
      "77\n",
      "45\n"
     ]
    }
   ],
   "source": [
    "class Person:\n",
    "    def __init__(self,name,age):\n",
    "        self.name=name\n",
    "        self.age=age\n",
    "\n",
    "    def __str__(self):\n",
    "        return f\"{self.name} is {self.age} years old.\"\n",
    "    \n",
    "    def __int__(self):\n",
    "        return self.age\n",
    "\n",
    "    \n",
    "    def __call__(self):\n",
    "        print(f\"{self.name} is being called\")\n",
    "\n",
    "    def __len__(self):\n",
    "        return len(self.name)\n",
    "    \n",
    "    def __add__(self,other):\n",
    "        return self.age+other.age\n",
    "    \n",
    "    \n",
    "eric=Person(\"Eric\",45)\n",
    "print(eric)\n",
    "\n",
    "eric()\n",
    "\n",
    "print(len(eric))\n",
    "\n",
    "tom=Person(\"Tom\",32)\n",
    "print(eric+tom)\n",
    "\n",
    "print(int(eric))"
   ]
  },
  {
   "cell_type": "code",
   "execution_count": 165,
   "metadata": {},
   "outputs": [
    {
     "name": "stdout",
     "output_type": "stream",
     "text": [
      "['a', 'b', 'c']\n"
     ]
    }
   ],
   "source": [
    "class PrintList(object):\n",
    "\n",
    "    def __init__(self, my_list):\n",
    "        self.mylist = my_list\n",
    "\n",
    "    def __repr__(self):\n",
    "        return str(self.mylist)\n",
    "\n",
    "\n",
    "printlist = PrintList([\"a\", \"b\", \"c\"])\n",
    "print(printlist.__repr__())"
   ]
  },
  {
   "cell_type": "code",
   "execution_count": 166,
   "metadata": {},
   "outputs": [
    {
     "data": {
      "text/plain": [
       "Dog(Tommy)"
      ]
     },
     "execution_count": 166,
     "metadata": {},
     "output_type": "execute_result"
    }
   ],
   "source": [
    "class Dog:\n",
    "    def __init__(self, name):\n",
    "        self.name = name\n",
    "\n",
    "    def __repr__(self):\n",
    "        return f\"Dog({self.name})\"\n",
    "    \n",
    "    def __str__(self): \n",
    "        return f\"this is a string\"\n",
    "\n",
    "tommy=Dog(\"Tommy\")\n",
    "\n",
    "tommy"
   ]
  },
  {
   "cell_type": "code",
   "execution_count": 167,
   "metadata": {},
   "outputs": [
    {
     "data": {
      "text/plain": [
       "15"
      ]
     },
     "execution_count": 167,
     "metadata": {},
     "output_type": "execute_result"
    }
   ],
   "source": [
    "class myint(int):\n",
    "    def __add__(self,other):\n",
    "        return self*other\n",
    "\n",
    "a=3\n",
    "b=myint(5)\n",
    "\n",
    "b+a\n"
   ]
  },
  {
   "cell_type": "code",
   "execution_count": 168,
   "metadata": {},
   "outputs": [
    {
     "name": "stdout",
     "output_type": "stream",
     "text": [
      "5\n",
      "John\n"
     ]
    }
   ],
   "source": [
    "import random\n",
    "\n",
    "x=random.randint(1,10)\n",
    "print(x)\n",
    "\n",
    "names=[\"Tom\",\"Eric\",\"John\",\"Smith\"]\n",
    "y=random.choice(names)\n",
    "print(y)\n"
   ]
  },
  {
   "cell_type": "code",
   "execution_count": 169,
   "metadata": {},
   "outputs": [
    {
     "name": "stdout",
     "output_type": "stream",
     "text": [
      "[{'Matthew Howe': 'Matthew Howe', 'benjaminwheeler@example.com': 'benjaminwheeler@example.com', '52191 Martin Isle\\nRachelville, KS 43168': '52191 Martin Isle\\nRachelville, KS 43168'}, {'James Lowe': 'James Lowe', 'autumn44@example.net': 'autumn44@example.net', '5716 Amy Inlet\\nJensenport, CO 83864': '5716 Amy Inlet\\nJensenport, CO 83864'}, {'Donald Nguyen': 'Donald Nguyen', 'crystalchambers@example.com': 'crystalchambers@example.com', 'Unit 9117 Box 6512\\nDPO AA 24526': 'Unit 9117 Box 6512\\nDPO AA 24526'}, {'Brian Allen': 'Brian Allen', 'paigeball@example.org': 'paigeball@example.org', '928 Brianna Knolls Suite 568\\nLake Bryan, ND 90596': '928 Brianna Knolls Suite 568\\nLake Bryan, ND 90596'}, {'Kevin Graves': 'Kevin Graves', 'nicolewalsh@example.org': 'nicolewalsh@example.org', '718 James Summit\\nLake Evanfort, MO 86147': '718 James Summit\\nLake Evanfort, MO 86147'}]\n"
     ]
    }
   ],
   "source": [
    "#faker\n",
    "from faker import Faker\n",
    "fake=Faker()\n",
    "\n",
    "#generate name, email and address\n",
    "\n",
    "def generate_fake():\n",
    "    name=fake.name()\n",
    "    email=fake.email()\n",
    "    address=fake.address()\n",
    "    return {name:name,email:email,address:address}\n",
    "\n",
    "generated=[]\n",
    "for i in range(5):\n",
    "    generated.append(generate_fake())\n",
    "\n",
    "print(generated)\n"
   ]
  },
  {
   "cell_type": "code",
   "execution_count": 170,
   "metadata": {},
   "outputs": [
    {
     "name": "stdout",
     "output_type": "stream",
     "text": [
      "Thomas Oconnor: 73 : True\n",
      "Bryan Collins: 15 : True\n",
      "Diane Haynes: 6 : False\n",
      "Danielle Zamora DDS: 32 : False\n",
      "Bryan Collins: 15 : True\n",
      "Eddie Weber: 44 : False\n",
      "Thomas Oconnor: 73 : True\n",
      "Diane Haynes: 6 : False\n",
      "Danielle Zamora DDS: 32 : False\n",
      "Eddie Weber: 44 : False\n",
      "--------------\n",
      "Thomas Oconnor: 73 : True\n",
      "Thomas Oconnor: 73 : True\n",
      "Bryan Collins: 15 : True\n",
      "Bryan Collins: 15 : True\n",
      "Eddie Weber: 44 : False\n",
      "Eddie Weber: 44 : False\n",
      "Danielle Zamora DDS: 32 : False\n",
      "Danielle Zamora DDS: 32 : False\n",
      "Diane Haynes: 6 : False\n",
      "Diane Haynes: 6 : False\n"
     ]
    }
   ],
   "source": [
    "class Human:\n",
    "    def __init__(self,name,age,priority=False):\n",
    "        self.family = []\n",
    "        self.name=name\n",
    "        self.age=age\n",
    "        self.priority=priority\n",
    "\n",
    "    def add_family_member(self, person):\n",
    "        self.family.append(person)\n",
    "        person.family = self.family\n",
    "\n",
    "class Queue:\n",
    "    def __init__(self, patients=[]):\n",
    "        self.__humans = [*patients]\n",
    "        \n",
    "    def add_person(self, person):\n",
    "        if person.age > 60 or person.priority:\n",
    "            self.__humans.insert(0, person)\n",
    "        else:\n",
    "            self.__humans.append(person)\n",
    "    \n",
    "    def __str__(self):\n",
    "        return \"\\n\".join([f'{person.name}: {person.age} : {person.priority}' for person in self.__humans])\n",
    "    \n",
    "    def find_in_queue(self, person):\n",
    "        if person in self.__humans:\n",
    "            return self.__humans.index(person)\n",
    "        else:\n",
    "            return None\n",
    "        \n",
    "    def swap(self, person1, person2):\n",
    "        index1 = self.find_in_queue(person1)\n",
    "\n",
    "        index2 = self.find_in_queue(person2)\n",
    "        if index1 != -1 and index2 != -1:\n",
    "            # self.__humans[index1], self.__humans[index2] = self.__humans[index2], self.__humans[index1]\n",
    "            pass\n",
    "        else:\n",
    "            print(\"One of the persons was not found\")\n",
    "    \n",
    "    #reaarange queue so that 2 family members ar enot next to each other\n",
    "    def rearrange_queue(self):\n",
    "        for i in range(len(self.__humans)-1):\n",
    "            if self.__humans[i].family == self.__humans[i+1].family:\n",
    "                self.__humans[i], self.__humans[i+1] = self.__humans[i+1], self.__humans[i]\n",
    "\n",
    "    def get_next(self):\n",
    "        if len(self.__humans) > 0:\n",
    "            return self.__humans[0]\n",
    "        else:\n",
    "            return None\n",
    "    def get_next_blood_type(self, blood_type):\n",
    "        for person in self.__humans:\n",
    "            if person.blood_type == blood_type:\n",
    "                return person\n",
    "        return None\n",
    "    def sort_by_age(self):\n",
    "        self.__humans=sorted(self.__humans, key=lambda person: (-person.priority, -person.age, person.name))\n",
    "        \n",
    "        pass\n",
    "    def rearrange_queue(self):\n",
    "        pass\n",
    "\n",
    "#generate a list of humans\n",
    "humans = [Human(fake.name(), random.randint(0, 100), random.choice([True, False])) for i in range(5)]\n",
    "\n",
    "queue=Queue(humans)\n",
    "for human in humans:\n",
    "    queue.add_person(human)\n",
    "\n",
    "print(queue)\n",
    "\n",
    "print('--------------')\n",
    "queue.sort_by_age()\n",
    "print(queue)\n",
    "\n",
    "\n"
   ]
  },
  {
   "cell_type": "code",
   "execution_count": 171,
   "metadata": {},
   "outputs": [
    {
     "name": "stdout",
     "output_type": "stream",
     "text": [
      "1 2\n",
      "[1, 3, 2, 4]\n"
     ]
    }
   ],
   "source": [
    "x=[1,2,3,4]\n",
    "\n",
    "index1=x.index(2)\n",
    "index2=x.index(3)\n",
    "print(index1,index2)\n",
    "\n",
    "temp=x[index1]\n",
    "x[index1]=x[index2]\n",
    "x[index2]=temp\n",
    "\n",
    "print(x)"
   ]
  }
 ],
 "metadata": {
  "kernelspec": {
   "display_name": "Python 3",
   "language": "python",
   "name": "python3"
  },
  "language_info": {
   "codemirror_mode": {
    "name": "ipython",
    "version": 3
   },
   "file_extension": ".py",
   "mimetype": "text/x-python",
   "name": "python",
   "nbconvert_exporter": "python",
   "pygments_lexer": "ipython3",
   "version": "3.10.2"
  }
 },
 "nbformat": 4,
 "nbformat_minor": 2
}
