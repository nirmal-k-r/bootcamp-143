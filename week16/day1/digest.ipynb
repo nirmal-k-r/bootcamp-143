{
 "cells": [
  {
   "cell_type": "code",
   "execution_count": 27,
   "metadata": {},
   "outputs": [
    {
     "name": "stdout",
     "output_type": "stream",
     "text": [
      "John\n"
     ]
    },
    {
     "ename": "KeyError",
     "evalue": "'address'",
     "output_type": "error",
     "traceback": [
      "\u001b[0;31m---------------------------------------------------------------------------\u001b[0m",
      "\u001b[0;31mKeyError\u001b[0m                                  Traceback (most recent call last)",
      "Cell \u001b[0;32mIn[27], line 9\u001b[0m\n\u001b[1;32m      3\u001b[0m person\u001b[38;5;241m=\u001b[39m{\n\u001b[1;32m      4\u001b[0m     \u001b[38;5;124m'\u001b[39m\u001b[38;5;124mname\u001b[39m\u001b[38;5;124m'\u001b[39m:\u001b[38;5;124m'\u001b[39m\u001b[38;5;124mJohn\u001b[39m\u001b[38;5;124m'\u001b[39m,\n\u001b[1;32m      5\u001b[0m     \u001b[38;5;124m'\u001b[39m\u001b[38;5;124mage\u001b[39m\u001b[38;5;124m'\u001b[39m:\u001b[38;5;241m30\u001b[39m\n\u001b[1;32m      6\u001b[0m }\n\u001b[1;32m      8\u001b[0m \u001b[38;5;28mprint\u001b[39m(person[\u001b[38;5;124m'\u001b[39m\u001b[38;5;124mname\u001b[39m\u001b[38;5;124m'\u001b[39m])\n\u001b[0;32m----> 9\u001b[0m \u001b[38;5;28mprint\u001b[39m(\u001b[43mperson\u001b[49m\u001b[43m[\u001b[49m\u001b[38;5;124;43m'\u001b[39;49m\u001b[38;5;124;43maddress\u001b[39;49m\u001b[38;5;124;43m'\u001b[39;49m\u001b[43m]\u001b[49m) \u001b[38;5;66;03m# KeyError: 'address'\u001b[39;00m\n\u001b[1;32m     12\u001b[0m myperson\u001b[38;5;241m=\u001b[39mdefaultdict(\u001b[38;5;28mstr\u001b[39m)\n\u001b[1;32m     13\u001b[0m myperson[\u001b[38;5;124m'\u001b[39m\u001b[38;5;124mname\u001b[39m\u001b[38;5;124m'\u001b[39m]\u001b[38;5;241m=\u001b[39m\u001b[38;5;124m'\u001b[39m\u001b[38;5;124mJohn\u001b[39m\u001b[38;5;124m'\u001b[39m\n",
      "\u001b[0;31mKeyError\u001b[0m: 'address'"
     ]
    }
   ],
   "source": [
    "from collections import defaultdict  \n",
    "\n",
    "person={\n",
    "    'name':'John',\n",
    "    'age':30\n",
    "}\n",
    "\n",
    "print(person['name'])\n",
    "# print(person['address']) # KeyError: 'address'\n",
    "\n",
    "\n",
    "myperson=defaultdict(str)\n",
    "myperson['name']='John'\n",
    "myperson['age']='30'\n",
    "print(myperson['name'])\n",
    "print(myperson['address']) "
   ]
  },
  {
   "cell_type": "code",
   "execution_count": 3,
   "metadata": {},
   "outputs": [
    {
     "data": {
      "text/plain": [
       "Counter({2: 3, 1: 2, 3: 2, 4: 1})"
      ]
     },
     "execution_count": 3,
     "metadata": {},
     "output_type": "execute_result"
    }
   ],
   "source": [
    "from collections import Counter  \n",
    "list = [1,2,3,4,2,2,3,1]  \n",
    "answer=Counter()\n",
    "answer = Counter(list)  \n",
    "answer"
   ]
  },
  {
   "cell_type": "code",
   "execution_count": 8,
   "metadata": {},
   "outputs": [
    {
     "name": "stdout",
     "output_type": "stream",
     "text": [
      "[1, 2, 3, 4]\n",
      "[1, 2, 3, 4, 5]\n",
      "deque([1, 2, 3, 4, 5])\n",
      "deque([1, 2, 3, 4, 5, 6])\n",
      "deque([7, 1, 2, 3, 4, 5, 6])\n"
     ]
    }
   ],
   "source": [
    "from collections import deque\n",
    "x=[1,2,3,4]\n",
    "print(x)\n",
    "x.append(5)\n",
    "print(x)\n",
    "\n",
    "y=deque(x)\n",
    "print(y)\n",
    "y.append(6)\n",
    "print(y)\n",
    "y.appendleft(7)\n",
    "print(y)"
   ]
  },
  {
   "cell_type": "code",
   "execution_count": 12,
   "metadata": {},
   "outputs": [
    {
     "name": "stdout",
     "output_type": "stream",
     "text": [
      "Audi\n",
      "Q3\n",
      "2024\n",
      "Audi\n",
      "2024\n",
      "Q3\n"
     ]
    }
   ],
   "source": [
    "from collections import namedtuple\n",
    "\n",
    "\n",
    "car=('Audi','Q3',2024)\n",
    "\n",
    "print(car[0])\n",
    "print(car[1])\n",
    "print(car[2])\n",
    "\n",
    "\n",
    "car=namedtuple('car', 'brand model year')\n",
    "mycar=car('Audi','Q3',2024)\n",
    "print(mycar.brand)\n",
    "print(mycar.year)\n",
    "print(mycar.model)\n"
   ]
  },
  {
   "cell_type": "code",
   "execution_count": 15,
   "metadata": {},
   "outputs": [
    {
     "name": "stdout",
     "output_type": "stream",
     "text": [
      "[{'a': 1, 'b': 2}, {'c': 3, 'b': 4}]\n",
      "2\n",
      "3\n"
     ]
    }
   ],
   "source": [
    "import collections\n",
    "\n",
    "dictionary1 = { 'a' : 1, 'b' : 2 }  \n",
    "dictionary2 = { 'c' : 3, 'b' : 4 }  \n",
    "chain_Map = collections.ChainMap(dictionary1, dictionary2)  \n",
    "print(chain_Map.maps)\n",
    "print(chain_Map['b'])\n",
    "print(chain_Map['c'])"
   ]
  },
  {
   "cell_type": "code",
   "execution_count": 21,
   "metadata": {},
   "outputs": [
    {
     "name": "stdout",
     "output_type": "stream",
     "text": [
      "{'a': 1, 'z': 1000, 'b': 2, 'c': 3}\n",
      "a 1\n",
      "z 1000\n",
      "b 2\n",
      "c 3\n",
      "OrderedDict([('a', 1), ('z', 1000), ('b', 2), ('c', 3)])\n"
     ]
    }
   ],
   "source": [
    "from collections import OrderedDict\n",
    "\n",
    "unordered={}\n",
    "unordered['a']=1\n",
    "unordered['z']=1000\n",
    "unordered['b']=2\n",
    "unordered['c']=3\n",
    "\n",
    "print(unordered)\n",
    "\n",
    "ordered=OrderedDict()\n",
    "ordered['a']=1\n",
    "ordered['z']=1000\n",
    "ordered['b']=2\n",
    "ordered['c']=3\n",
    "\n",
    "print(ordered)\n"
   ]
  },
  {
   "cell_type": "code",
   "execution_count": 28,
   "metadata": {},
   "outputs": [
    {
     "name": "stdout",
     "output_type": "stream",
     "text": [
      "Audi\n",
      "Mercedes\n",
      "Toyota\n"
     ]
    }
   ],
   "source": [
    "import itertools\n",
    "cars=['Audi','BMW','Mercedes','Toyota','Honda']\n",
    "qa=[True,False,True,True,False]\n",
    "\n",
    "for result in itertools.compress(cars,qa):\n",
    "    print(result)"
   ]
  },
  {
   "cell_type": "code",
   "execution_count": 29,
   "metadata": {},
   "outputs": [
    {
     "name": "stdout",
     "output_type": "stream",
     "text": [
      "60\n",
      "70\n",
      "80\n",
      "10\n"
     ]
    }
   ],
   "source": [
    "marks=[40,50,50,60,70,80,10]\n",
    "\n",
    "for result in itertools.dropwhile(lambda x:x<=50,marks):\n",
    "    print(result)"
   ]
  }
 ],
 "metadata": {
  "kernelspec": {
   "display_name": "Python 3",
   "language": "python",
   "name": "python3"
  },
  "language_info": {
   "codemirror_mode": {
    "name": "ipython",
    "version": 3
   },
   "file_extension": ".py",
   "mimetype": "text/x-python",
   "name": "python",
   "nbconvert_exporter": "python",
   "pygments_lexer": "ipython3",
   "version": "3.10.2"
  }
 },
 "nbformat": 4,
 "nbformat_minor": 2
}
