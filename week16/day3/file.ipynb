{
 "cells": [
  {
   "cell_type": "code",
   "execution_count": 11,
   "metadata": {},
   "outputs": [
    {
     "name": "stdout",
     "output_type": "stream",
     "text": [
      "toyota\n",
      "honda\n",
      "audi\n",
      "bmw\n",
      "mercedes\n"
     ]
    }
   ],
   "source": [
    "#read a file\n",
    "\n",
    "file=open('cars.txt', 'r')\n",
    "\n",
    "#read the content of the file\n",
    "content=file.read()\n",
    "\n",
    "print(content)\n",
    "\n",
    "file.close()\n"
   ]
  },
  {
   "cell_type": "code",
   "execution_count": 5,
   "metadata": {},
   "outputs": [
    {
     "name": "stdout",
     "output_type": "stream",
     "text": [
      "apples, pears\n",
      "milk,  cheese, butter\n",
      "rice\n"
     ]
    }
   ],
   "source": [
    "file2=open('grocery_list.txt', 'r')\n",
    "print(file2.read())\n",
    "\n",
    "file2.close()"
   ]
  },
  {
   "cell_type": "code",
   "execution_count": 9,
   "metadata": {},
   "outputs": [
    {
     "name": "stdout",
     "output_type": "stream",
     "text": [
      "toyota\n",
      "\n",
      "honda\n",
      "\n",
      "audi\n",
      "\n",
      "bmw\n",
      "\n",
      "mercedes\n"
     ]
    }
   ],
   "source": [
    "#read line by line\n",
    "file=open('cars.txt', 'r')\n",
    "\n",
    "# lines=file.readlines()\n",
    "for line in file:\n",
    "    print(line)\n",
    "\n",
    "file.close()"
   ]
  },
  {
   "cell_type": "code",
   "execution_count": 7,
   "metadata": {},
   "outputs": [
    {
     "name": "stdout",
     "output_type": "stream",
     "text": [
      "toyota\n",
      "\n",
      "honda\n",
      "\n",
      "audi\n",
      "\n",
      "bmw\n",
      "\n",
      "mercedes\n"
     ]
    }
   ],
   "source": [
    "#read line by line using a loop\n",
    "with open('cars.txt', 'r') as file:\n",
    "    for line in file:\n",
    "        print(line)"
   ]
  },
  {
   "cell_type": "code",
   "execution_count": 18,
   "metadata": {},
   "outputs": [],
   "source": [
    "file=open('names.txt','w')\n",
    "\n",
    "file.write('John\\n')\n",
    "file.write('Jane\\n')\n",
    "file.write('Mary\\n')\n",
    "file.write('James\\n')\n",
    "\n",
    "\n",
    "file.close()"
   ]
  },
  {
   "cell_type": "code",
   "execution_count": 20,
   "metadata": {},
   "outputs": [],
   "source": [
    "file=open('names.txt', 'a')\n",
    "\n",
    "file.write('Marie\\n')\n",
    "\n",
    "file.close()"
   ]
  },
  {
   "cell_type": "code",
   "execution_count": 21,
   "metadata": {},
   "outputs": [],
   "source": [
    "try:\n",
    "    with open('names.txt', 'a') as file:\n",
    "        file.write('Mark\\n')\n",
    "except:\n",
    "    print('An error occurred')\n",
    "\n"
   ]
  },
  {
   "cell_type": "code",
   "execution_count": 30,
   "metadata": {},
   "outputs": [
    {
     "name": "stdout",
     "output_type": "stream",
     "text": [
      "pears\n",
      "milk,  cheese, butter\n",
      "rice\n"
     ]
    }
   ],
   "source": [
    "try:\n",
    "    with open('grocery_list.txt', 'r') as file:\n",
    "        file.seek(8)\n",
    "        print(file.read())\n",
    "except:\n",
    "    print('An error occurred')"
   ]
  },
  {
   "cell_type": "code",
   "execution_count": 41,
   "metadata": {},
   "outputs": [
    {
     "name": "stdout",
     "output_type": "stream",
     "text": [
      "['Mary\\n', 'James\\n', 'Joseph\\n', 'Marie\\n', 'Mark\\n']\n"
     ]
    }
   ],
   "source": [
    "with open('names.txt', 'r') as file:\n",
    "    lines=file.readlines()[2:]\n",
    "    print(lines)"
   ]
  },
  {
   "cell_type": "code",
   "execution_count": 47,
   "metadata": {},
   "outputs": [
    {
     "name": "stdout",
     "output_type": "stream",
     "text": [
      "['Mary', 'James', 'Marie']\n",
      "['Mary', 'James', 'Marie', 'Mark']\n",
      "['John', 'Jane', 'Mary']\n",
      "['John', 'Jane', 'Mary', 'James']\n",
      "['Jane', 'Mary', 'James']\n"
     ]
    }
   ],
   "source": [
    "data=['John', 'Jane', 'Mary', 'James', 'Marie', 'Mark']\n",
    "\n",
    "print(data[2:5])\n",
    "print(data[2:])\n",
    "print(data[:3])\n",
    "print(data[:-2])\n",
    "\n",
    "print(data[1:4])"
   ]
  },
  {
   "cell_type": "code",
   "execution_count": 49,
   "metadata": {},
   "outputs": [
    {
     "name": "stdout",
     "output_type": "stream",
     "text": [
      "John\n",
      "J\n"
     ]
    }
   ],
   "source": [
    "file=open('names.txt', 'r')\n",
    "print(file.read(5))\n",
    "\n",
    "file.close()"
   ]
  },
  {
   "cell_type": "code",
   "execution_count": 57,
   "metadata": {},
   "outputs": [
    {
     "name": "stdout",
     "output_type": "stream",
     "text": [
      "['apples', 'pears', 'milk', 'cheese', 'butter', 'rice']\n"
     ]
    }
   ],
   "source": [
    "items=[]\n",
    "\n",
    "file=open('grocery_list.txt', 'r')\n",
    "for line in file:\n",
    "    line_items=line.split(',')\n",
    "    for item in line_items:\n",
    "        item_to_add=item.strip()  \n",
    "        items.append(item_to_add)  \n",
    "\n",
    "print(items)"
   ]
  },
  {
   "cell_type": "code",
   "execution_count": null,
   "metadata": {},
   "outputs": [],
   "source": []
  }
 ],
 "metadata": {
  "kernelspec": {
   "display_name": "Python 3",
   "language": "python",
   "name": "python3"
  },
  "language_info": {
   "codemirror_mode": {
    "name": "ipython",
    "version": 3
   },
   "file_extension": ".py",
   "mimetype": "text/x-python",
   "name": "python",
   "nbconvert_exporter": "python",
   "pygments_lexer": "ipython3",
   "version": "3.10.2"
  }
 },
 "nbformat": 4,
 "nbformat_minor": 2
}
