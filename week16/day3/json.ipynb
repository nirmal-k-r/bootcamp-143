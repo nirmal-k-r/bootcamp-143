{
 "cells": [
  {
   "cell_type": "code",
   "execution_count": 1,
   "metadata": {},
   "outputs": [
    {
     "name": "stdout",
     "output_type": "stream",
     "text": [
      "Ford\n"
     ]
    }
   ],
   "source": [
    "person={\n",
    "    'name':'Ford',\n",
    "    'age':23,\n",
    "    'job':'engineer'\n",
    "}\n",
    "\n",
    "print(person['name'])"
   ]
  },
  {
   "cell_type": "code",
   "execution_count": 2,
   "metadata": {},
   "outputs": [
    {
     "name": "stdout",
     "output_type": "stream",
     "text": [
      "{\"name\": \"Ford\", \"age\": 23, \"job\": \"engineer\"}\n"
     ]
    }
   ],
   "source": [
    "import json\n",
    "person_json=json.dumps(person)\n",
    "print(person_json)"
   ]
  },
  {
   "cell_type": "code",
   "execution_count": 3,
   "metadata": {},
   "outputs": [],
   "source": [
    "file=open('person.json','w')\n",
    "file.write(person_json)\n",
    "file.close()"
   ]
  },
  {
   "cell_type": "code",
   "execution_count": 7,
   "metadata": {},
   "outputs": [
    {
     "name": "stdout",
     "output_type": "stream",
     "text": [
      "{'name': 'henry', 'age': 23, 'job': 'engineer'}\n"
     ]
    },
    {
     "data": {
      "text/plain": [
       "'henry'"
      ]
     },
     "execution_count": 7,
     "metadata": {},
     "output_type": "execute_result"
    }
   ],
   "source": [
    "file=open('person2.json','r')\n",
    "person2_json=file.read()\n",
    "file.close()\n",
    "\n",
    "person2_dict=json.loads(person2_json)   \n",
    "print(person2_dict)\n",
    "\n",
    "person2_dict['name']\n"
   ]
  }
 ],
 "metadata": {
  "kernelspec": {
   "display_name": "Python 3",
   "language": "python",
   "name": "python3"
  },
  "language_info": {
   "codemirror_mode": {
    "name": "ipython",
    "version": 3
   },
   "file_extension": ".py",
   "mimetype": "text/x-python",
   "name": "python",
   "nbconvert_exporter": "python",
   "pygments_lexer": "ipython3",
   "version": "3.10.2"
  }
 },
 "nbformat": 4,
 "nbformat_minor": 2
}
