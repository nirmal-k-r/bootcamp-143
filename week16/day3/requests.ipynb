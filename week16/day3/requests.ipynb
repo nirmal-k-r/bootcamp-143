{
 "cells": [
  {
   "cell_type": "code",
   "execution_count": 5,
   "metadata": {},
   "outputs": [
    {
     "name": "stdout",
     "output_type": "stream",
     "text": [
      "Chuck Norris puts out his cigars in the nearest person's eye socket.\n"
     ]
    }
   ],
   "source": [
    "import requests\n",
    "\n",
    "url='https://api.chucknorris.io/jokes/random' \n",
    "\n",
    "response = requests.get(url)\n",
    "joke = response.json()\n",
    "\n",
    "# print(joke.keys())\n",
    "print(joke['value'])\n",
    "\n"
   ]
  },
  {
   "cell_type": "code",
   "execution_count": 6,
   "metadata": {},
   "outputs": [
    {
     "name": "stdout",
     "output_type": "stream",
     "text": [
      "['animal', 'career', 'celebrity', 'dev', 'explicit', 'fashion', 'food', 'history', 'money', 'movie', 'music', 'political', 'religion', 'science', 'sport', 'travel']\n"
     ]
    }
   ],
   "source": [
    "#retrive list of available catregories\n",
    "\n",
    "url='https://api.chucknorris.io/jokes/categories'\n",
    "\n",
    "response = requests.get(url)\n",
    "categories = response.json()\n",
    "\n",
    "print(categories)\n"
   ]
  },
  {
   "cell_type": "code",
   "execution_count": 13,
   "metadata": {},
   "outputs": [
    {
     "name": "stdout",
     "output_type": "stream",
     "text": [
      "Chuck Norris once sued Burger King after they refused to put razor wire in his Whopper Jr, insisting that that actually is \"his\" way.\n"
     ]
    }
   ],
   "source": [
    "#retrive one joke from a specific category using query parameter\n",
    "url='https://api.chucknorris.io/jokes/random'\n",
    "query_params={\n",
    "    'category':'food' \n",
    "}\n",
    "\n",
    "response = requests.get(url,params=query_params)\n",
    "joke = response.json()['value']\n",
    "print(joke)\n"
   ]
  },
  {
   "cell_type": "code",
   "execution_count": 16,
   "metadata": {},
   "outputs": [
    {
     "name": "stdout",
     "output_type": "stream",
     "text": [
      "https://api.chucknorris.io/jokes/random?category=food\n"
     ]
    }
   ],
   "source": [
    "print(response.request.url)"
   ]
  },
  {
   "cell_type": "code",
   "execution_count": 22,
   "metadata": {},
   "outputs": [
    {
     "name": "stdout",
     "output_type": "stream",
     "text": [
      "['test', 'test', 'test']\n",
      "<re.Match object; span=(10, 14), match='test'>\n",
      "This is a testing for another testing in a testing\n",
      "['This is a test ', ' another test in a test']\n"
     ]
    }
   ],
   "source": [
    "import re\n",
    "\n",
    "data=\"This is a test for another test in a test\"\n",
    "\n",
    "x=re.findall('test',data)\n",
    "print(x)\n",
    "\n",
    "y=re.search('test',data)\n",
    "print(y)\n",
    "\n",
    "z=re.sub('test','testing', data)\n",
    "print(z)§\n",
    "\n",
    "w=re.split('for',data)\n",
    "print(w)"
   ]
  }
 ],
 "metadata": {
  "kernelspec": {
   "display_name": "Python 3",
   "language": "python",
   "name": "python3"
  },
  "language_info": {
   "codemirror_mode": {
    "name": "ipython",
    "version": 3
   },
   "file_extension": ".py",
   "mimetype": "text/x-python",
   "name": "python",
   "nbconvert_exporter": "python",
   "pygments_lexer": "ipython3",
   "version": "3.10.2"
  }
 },
 "nbformat": 4,
 "nbformat_minor": 2
}
