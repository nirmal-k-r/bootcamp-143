{
 "cells": [
  {
   "cell_type": "code",
   "execution_count": 7,
   "metadata": {},
   "outputs": [
    {
     "name": "stdout",
     "output_type": "stream",
     "text": [
      "deque(['apple', 'banana', 'cherry'])\n",
      "deque(['apple', 'banana', 'cherry', 'date'])\n",
      "deque(['apricot', 'apple', 'banana', 'cherry', 'date'])\n",
      "deque(['apricot', 'apple', 'banana', 'cherry'])\n",
      "deque(['apple', 'banana', 'cherry'])\n"
     ]
    }
   ],
   "source": [
    "from collections import deque\n",
    "\n",
    "fruits=deque(['apple','banana','cherry'])\n",
    "\n",
    "print(fruits)\n",
    "\n",
    "fruits.append('date')\n",
    "\n",
    "print(fruits)\n",
    "\n",
    "fruits.appendleft('apricot')\n",
    "\n",
    "print(fruits)\n",
    "\n",
    "fruits.pop()\n",
    "print(fruits)\n",
    "\n",
    "fruits.popleft()\n",
    "print(fruits)"
   ]
  },
  {
   "cell_type": "code",
   "execution_count": 12,
   "metadata": {},
   "outputs": [
    {
     "name": "stdout",
     "output_type": "stream",
     "text": [
      "Tom\n",
      "Jerry\n",
      "Paul\n",
      "----\n",
      "Tom\n",
      "Jerry\n",
      "Rita\n",
      "Paul\n"
     ]
    }
   ],
   "source": [
    "class Node:\n",
    "    def __init__(self,data,next=None):\n",
    "        self.data=data\n",
    "        self.next=next\n",
    "\n",
    "class LinkedList:\n",
    "    def __init__(self,root=None):\n",
    "        self.root=root\n",
    "\n",
    "    def add(self,data,position):\n",
    "        new_node=Node(data)\n",
    "        return new_node\n",
    "\n",
    "   \n",
    "\n",
    "#['Tom'] ['Jerry'] ['Paul']\n",
    "\n",
    "#create the nodes\n",
    "node1=Node('Tom')\n",
    "node2=Node('Jerry')\n",
    "node3=Node('Paul')\n",
    "\n",
    "#link the nodes\n",
    "node1.next=node2\n",
    "node2.next=node3\n",
    "\n",
    "#initialize the linked list with root node\n",
    "my_linked_list=LinkedList(node1)\n",
    "\n",
    "current_node=my_linked_list.root\n",
    "\n",
    "\n",
    "#read the linked list in order\n",
    "\n",
    "while True:\n",
    "    print(current_node.data)\n",
    "    if current_node.next is None:\n",
    "        break\n",
    "    else:\n",
    "        current_node=current_node.next\n",
    "    \n",
    "\n",
    "\n",
    "#add elemnt in the middle of the linked list \n",
    "current_node=my_linked_list.root\n",
    "node4=Node('Rita')\n",
    "while True:\n",
    "    if current_node.next is None:\n",
    "        break\n",
    "    else:\n",
    "        if current_node.data=='Jerry':\n",
    "            current_node.next=node4\n",
    "            node4.next=node3\n",
    "        current_node=current_node.next\n",
    "    \n",
    "\n",
    "\n",
    "print('----')\n",
    "#read the linked list in order\n",
    "current_node=my_linked_list.root\n",
    "while True:\n",
    "    print(current_node.data)\n",
    "    if current_node.next is None:\n",
    "        break\n",
    "    else:\n",
    "        current_node=current_node.next\n",
    "    \n"
   ]
  },
  {
   "cell_type": "code",
   "execution_count": 15,
   "metadata": {},
   "outputs": [
    {
     "name": "stdout",
     "output_type": "stream",
     "text": [
      "['Tom', 'Jerry', 'Paul', 'Maeva', 'Rita', 'Jenny']\n"
     ]
    }
   ],
   "source": [
    "names=['Tom','Jerry','Paul','Rita','Jenny']\n",
    "\n",
    "names=names[0:names.index('Paul')+1]+['Maeva']+names[names.index('Paul')+1:]\n",
    "\n",
    "print(names)"
   ]
  },
  {
   "cell_type": "code",
   "execution_count": 20,
   "metadata": {},
   "outputs": [
    {
     "name": "stdout",
     "output_type": "stream",
     "text": [
      "['Tom', 'Jerry', 'Paul']\n"
     ]
    }
   ],
   "source": [
    "names=['Tom','Jerry','Paul','Rita','Jenny']\n",
    "\n",
    "segment1=names[0:3]\n",
    "# segment1\n",
    "\n",
    "result=[]\n",
    "for i in range(0,3):\n",
    "    result.append(names[i])\n",
    "\n",
    "print(result)\n",
    "\n",
    "\n",
    "#array slicing\n",
    "names=['Tom','Jerry','Paul','Rita','Jenny']\n",
    "\n"
   ]
  },
  {
   "cell_type": "code",
   "execution_count": null,
   "metadata": {},
   "outputs": [],
   "source": [
    "0\n",
    "1\n",
    "2\n",
    "3\n",
    "4\n",
    "\n",
    "x='apple'\n",
    "y='pear'\n",
    "\n",
    "def hash_function(key):\n",
    "    return key%10\n",
    "\n"
   ]
  },
  {
   "cell_type": "code",
   "execution_count": null,
   "metadata": {},
   "outputs": [],
   "source": [
    "data={\n",
    "    'id':1,\n",
    "    'name':'Tom',\n",
    "    'age':30\n",
    "}\n",
    "\n",
    "data['id']"
   ]
  },
  {
   "cell_type": "code",
   "execution_count": null,
   "metadata": {},
   "outputs": [],
   "source": [
    "\n",
    "names=['Tom','Jerry','Paul','Rita','Jenny']\n",
    "names[4]\n",
    "\n",
    "\n"
   ]
  },
  {
   "cell_type": "code",
   "execution_count": 22,
   "metadata": {},
   "outputs": [
    {
     "data": {
      "text/plain": [
       "7611967165198798225"
      ]
     },
     "execution_count": 22,
     "metadata": {},
     "output_type": "execute_result"
    }
   ],
   "source": [
    "hash('id')\n"
   ]
  },
  {
   "cell_type": "code",
   "execution_count": 23,
   "metadata": {},
   "outputs": [
    {
     "data": {
      "text/plain": [
       "-2957324738887117420"
      ]
     },
     "execution_count": 23,
     "metadata": {},
     "output_type": "execute_result"
    }
   ],
   "source": []
  },
  {
   "cell_type": "code",
   "execution_count": 24,
   "metadata": {},
   "outputs": [
    {
     "data": {
      "text/plain": [
       "136164248702386441"
      ]
     },
     "execution_count": 24,
     "metadata": {},
     "output_type": "execute_result"
    }
   ],
   "source": [
    "hash('idw') "
   ]
  },
  {
   "cell_type": "code",
   "execution_count": null,
   "metadata": {},
   "outputs": [],
   "source": [
    "data['id']\n",
    "10000000+30\n",
    "\n",
    "10000030"
   ]
  },
  {
   "cell_type": "code",
   "execution_count": null,
   "metadata": {},
   "outputs": [],
   "source": [
    "\n"
   ]
  }
 ],
 "metadata": {
  "kernelspec": {
   "display_name": "Python 3",
   "language": "python",
   "name": "python3"
  },
  "language_info": {
   "codemirror_mode": {
    "name": "ipython",
    "version": 3
   },
   "file_extension": ".py",
   "mimetype": "text/x-python",
   "name": "python",
   "nbconvert_exporter": "python",
   "pygments_lexer": "ipython3",
   "version": "3.10.2"
  }
 },
 "nbformat": 4,
 "nbformat_minor": 2
}
