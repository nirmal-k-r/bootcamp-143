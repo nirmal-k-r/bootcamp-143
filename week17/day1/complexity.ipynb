{
 "cells": [
  {
   "cell_type": "code",
   "execution_count": null,
   "metadata": {},
   "outputs": [],
   "source": [
    "print('hello world') #1 instruction\n",
    "\n",
    "x=1\n",
    "\n",
    "x=x+1  #1 intruction\n",
    "\n",
    "#test\n",
    "\n",
    "\n",
    "o(1)\n",
    "\n"
   ]
  },
  {
   "cell_type": "code",
   "execution_count": null,
   "metadata": {},
   "outputs": [],
   "source": [
    "names=['Alice','Bob','Charlie','Pierre'] #1 instruction\n",
    "keyword='Bob' \n",
    "\n",
    "for name in names:  \n",
    "    if name==keyword:\n",
    "        print('found')\n",
    "        break\n",
    "\n",
    "\n"
   ]
  },
  {
   "cell_type": "code",
   "execution_count": 4,
   "metadata": {},
   "outputs": [
    {
     "name": "stdout",
     "output_type": "stream",
     "text": [
      "found after 21 iterations\n"
     ]
    }
   ],
   "source": [
    "names=['Alice','Bob','Charlie','Pierre','Tom','Jerry','Donald','Mickey','Minnie','Pluto','Daisy','Goofy','Scrooge','Huey','Dewey','Louie','Webby','Launchpad','Gyro','Fenton','Gizmoduck','zoo']\n",
    "\n",
    "\n",
    "def search(keyword, name_list):\n",
    "    i=0\n",
    "    for name in name_list:\n",
    "        i+=1\n",
    "        if name==keyword:\n",
    "            print(f'found after {i} iterations')\n",
    "            break\n",
    "\n",
    "search('Gizmoduck',names)\n"
   ]
  },
  {
   "cell_type": "code",
   "execution_count": 5,
   "metadata": {},
   "outputs": [
    {
     "name": "stdout",
     "output_type": "stream",
     "text": [
      "found after 267304 iterations\n"
     ]
    }
   ],
   "source": [
    "words=[]\n",
    "file=open('wordList.txt','r')\n",
    "for line in file:\n",
    "    words.append(line.strip().lower())\n",
    "file.close()\n",
    "\n",
    "def search(keyword, word_list):\n",
    "    i=0\n",
    "    for name in word_list:\n",
    "        i+=1\n",
    "        if name==keyword:\n",
    "            print(f'found after {i} iterations')\n",
    "            break\n",
    "\n",
    "search('zoo',words)"
   ]
  },
  {
   "cell_type": "code",
   "execution_count": 9,
   "metadata": {},
   "outputs": [
    {
     "name": "stdout",
     "output_type": "stream",
     "text": [
      "found after 17 iterations\n",
      "265648\n"
     ]
    }
   ],
   "source": [
    "\n",
    "\n",
    "def binary_search(keyword, word_list):\n",
    "    word_num=len(word_list)\n",
    "    first=0\n",
    "    last=word_num-1\n",
    "    i=0\n",
    "\n",
    "    while True:\n",
    "        i=i+1\n",
    "        if first>last:\n",
    "            print('not found')\n",
    "            break\n",
    "        \n",
    "        position=(first+last)//2\n",
    "\n",
    "        if word_list[position]==keyword:\n",
    "            print(f'found after {i} iterations')\n",
    "            print(position)\n",
    "            break\n",
    "        elif word_list[position]<keyword:\n",
    "            first=position+1\n",
    "\n",
    "        elif word_list[position]>keyword:\n",
    "            last=position-1\n",
    "\n",
    "\n",
    "binary_search('ya',words)\n",
    "\n"
   ]
  },
  {
   "cell_type": "code",
   "execution_count": 13,
   "metadata": {},
   "outputs": [
    {
     "name": "stdout",
     "output_type": "stream",
     "text": [
      "['Alice', 'Bob', 'Charlie', 'Pierre', 'Tom']\n",
      "['Alice', 'Bob', 'Charlie', 'Pierre', 'Tom', 'Jerry']\n",
      "['Alice', 'Bob', 'Charlie', 'Pierre', 'Tom']\n"
     ]
    }
   ],
   "source": [
    "#LIFO -> stack\n",
    "\n",
    "names=['Alice','Bob','Charlie','Pierre','Tom']\n",
    "print(names)\n",
    "\n",
    "names.append('Jerry')\n",
    "print(names)\n",
    "\n",
    "names.pop()\n",
    "print(names)"
   ]
  },
  {
   "cell_type": "code",
   "execution_count": 16,
   "metadata": {},
   "outputs": [
    {
     "name": "stdout",
     "output_type": "stream",
     "text": [
      "['Alice', 'Bob', 'Charlie']\n",
      "['Bob', 'Charlie']\n"
     ]
    }
   ],
   "source": [
    "#queue -> FIFO\n",
    "\n",
    "class Queue:\n",
    "    def __init__(self):\n",
    "        self.queue=[]\n",
    "\n",
    "    def push(self,element):\n",
    "        self.queue.append(element)\n",
    "\n",
    "    def pop(self):\n",
    "        if len(self.queue)>0:\n",
    "            return self.queue.pop(0)\n",
    "        \n",
    "    def __str__(self):\n",
    "        return str(self.queue)\n",
    "\n",
    "names=Queue()\n",
    "names.push('Alice')\n",
    "names.push('Bob')\n",
    "names.push('Charlie')\n",
    "print(names)\n",
    "\n",
    "names.pop()\n",
    "print(names)"
   ]
  },
  {
   "cell_type": "code",
   "execution_count": 17,
   "metadata": {},
   "outputs": [
    {
     "name": "stdout",
     "output_type": "stream",
     "text": [
      "3\n"
     ]
    }
   ],
   "source": [
    "def add(a,b):\n",
    "    return a+b\n",
    "\n",
    "def add3(a,b,c):\n",
    "    return a+b+c\n",
    "\n",
    "\n",
    "\n",
    "x=add(1,2)\n",
    "print(x)\n",
    "\n",
    "y=add3(1,2,3)\n",
    "print(y)\n",
    "\n"
   ]
  },
  {
   "cell_type": "code",
   "execution_count": 20,
   "metadata": {},
   "outputs": [
    {
     "name": "stdout",
     "output_type": "stream",
     "text": [
      "3\n",
      "6\n",
      "21\n"
     ]
    }
   ],
   "source": [
    "#args\n",
    "\n",
    "def add(*nums):\n",
    "    sum=0\n",
    "    for num in nums:\n",
    "        sum+=num\n",
    "\n",
    "    print(sum)\n",
    "\n",
    "\n",
    "add(1,2)\n",
    "\n",
    "add(1,2,3)\n",
    "add(1,2,3,4,5,6)\n",
    "\n"
   ]
  },
  {
   "cell_type": "code",
   "execution_count": 22,
   "metadata": {},
   "outputs": [
    {
     "name": "stdout",
     "output_type": "stream",
     "text": [
      "name: Alice\n",
      "address: Wonderland\n",
      "id: 123\n",
      "phone: 1234567890\n",
      "gender: F\n",
      "age: 25\n",
      "x: 1\n",
      "y: 2\n",
      "z: 3\n"
     ]
    }
   ],
   "source": [
    "def info(name,address):\n",
    "    print(f'name: {name}')\n",
    "    print(f'address: {address}')\n",
    "\n",
    "def info2(name,address,id):\n",
    "    print(f'name: {name}')\n",
    "    print(f'address: {address}')\n",
    "    print(f'id: {id}')\n",
    "\n",
    "def info3(name,address,id,phone):\n",
    "    print(f'name: {name}')\n",
    "    print(f'address: {address}')\n",
    "    print(f'id: {id}')\n",
    "    print(f'phone: {phone}')\n",
    "\n",
    "\n",
    "def info(**person):\n",
    "    for key,value in person.items():\n",
    "        print(f'{key}: {value}')\n",
    "\n",
    "\n",
    "info(name='Alice',address='Wonderland',id=123,phone='1234567890',gender='F',age=25,x=1,y=2,z=3)\n"
   ]
  },
  {
   "cell_type": "code",
   "execution_count": 25,
   "metadata": {},
   "outputs": [
    {
     "ename": "TypeError",
     "evalue": "'module' object is not callable",
     "output_type": "error",
     "traceback": [
      "\u001b[0;31m---------------------------------------------------------------------------\u001b[0m",
      "\u001b[0;31mTypeError\u001b[0m                                 Traceback (most recent call last)",
      "Cell \u001b[0;32mIn[25], line 16\u001b[0m\n\u001b[1;32m     13\u001b[0m     \u001b[38;5;28;01mfor\u001b[39;00m key,value \u001b[38;5;129;01min\u001b[39;00m person\u001b[38;5;241m.\u001b[39mitems():\n\u001b[1;32m     14\u001b[0m         \u001b[38;5;28mprint\u001b[39m(\u001b[38;5;124mf\u001b[39m\u001b[38;5;124m'\u001b[39m\u001b[38;5;132;01m{\u001b[39;00mkey\u001b[38;5;132;01m}\u001b[39;00m\u001b[38;5;124m: \u001b[39m\u001b[38;5;132;01m{\u001b[39;00mvalue\u001b[38;5;132;01m}\u001b[39;00m\u001b[38;5;124m'\u001b[39m)\n\u001b[0;32m---> 16\u001b[0m \u001b[43minfo\u001b[49m\u001b[43m(\u001b[49m\u001b[43mname\u001b[49m\u001b[38;5;241;43m=\u001b[39;49m\u001b[38;5;124;43m'\u001b[39;49m\u001b[38;5;124;43mAlice\u001b[39;49m\u001b[38;5;124;43m'\u001b[39;49m\u001b[43m,\u001b[49m\u001b[43maddress\u001b[49m\u001b[38;5;241;43m=\u001b[39;49m\u001b[38;5;124;43m'\u001b[39;49m\u001b[38;5;124;43mWonderland\u001b[39;49m\u001b[38;5;124;43m'\u001b[39;49m\u001b[43m,\u001b[49m\u001b[38;5;28;43mid\u001b[39;49m\u001b[38;5;241;43m=\u001b[39;49m\u001b[38;5;241;43m123\u001b[39;49m\u001b[43m,\u001b[49m\u001b[43mphone\u001b[49m\u001b[38;5;241;43m=\u001b[39;49m\u001b[38;5;124;43m'\u001b[39;49m\u001b[38;5;124;43m1234567890\u001b[39;49m\u001b[38;5;124;43m'\u001b[39;49m\u001b[43m,\u001b[49m\u001b[43mgender\u001b[49m\u001b[38;5;241;43m=\u001b[39;49m\u001b[38;5;124;43m'\u001b[39;49m\u001b[38;5;124;43mF\u001b[39;49m\u001b[38;5;124;43m'\u001b[39;49m\u001b[43m,\u001b[49m\u001b[43mage\u001b[49m\u001b[38;5;241;43m=\u001b[39;49m\u001b[38;5;241;43m25\u001b[39;49m\u001b[43m,\u001b[49m\u001b[43mx\u001b[49m\u001b[38;5;241;43m=\u001b[39;49m\u001b[38;5;241;43m1\u001b[39;49m\u001b[43m,\u001b[49m\u001b[43my\u001b[49m\u001b[38;5;241;43m=\u001b[39;49m\u001b[38;5;241;43m2\u001b[39;49m\u001b[43m,\u001b[49m\u001b[43mz\u001b[49m\u001b[38;5;241;43m=\u001b[39;49m\u001b[38;5;241;43m3\u001b[39;49m\u001b[43m)\u001b[49m\n",
      "Cell \u001b[0;32mIn[25], line 4\u001b[0m, in \u001b[0;36mtimer.<locals>.wrapper\u001b[0;34m(*args, **kwargs)\u001b[0m\n\u001b[1;32m      3\u001b[0m \u001b[38;5;28;01mdef\u001b[39;00m \u001b[38;5;21mwrapper\u001b[39m(\u001b[38;5;241m*\u001b[39margs, \u001b[38;5;241m*\u001b[39m\u001b[38;5;241m*\u001b[39mkwargs):\n\u001b[0;32m----> 4\u001b[0m     start \u001b[38;5;241m=\u001b[39m \u001b[43mtime\u001b[49m\u001b[43m(\u001b[49m\u001b[43m)\u001b[49m\n\u001b[1;32m      5\u001b[0m     func(\u001b[38;5;241m*\u001b[39margs, \u001b[38;5;241m*\u001b[39m\u001b[38;5;241m*\u001b[39mkwargs)\n\u001b[1;32m      6\u001b[0m     end \u001b[38;5;241m=\u001b[39m time()\n",
      "\u001b[0;31mTypeError\u001b[0m: 'module' object is not callable"
     ]
    }
   ],
   "source": [
    "import time\n",
    "\n",
    "def timer(func):\n",
    "    def wrapper(*args, **kwargs):\n",
    "        start = time.time()\n",
    "        func(*args, **kwargs)\n",
    "        end = time.time()\n",
    "        print(f\"Time <{func.__name__}>: {end-start}\")\n",
    "\n",
    "    return wrapper\n",
    "\n",
    "@timer\n",
    "def info(**person):\n",
    "    for key,value in person.items():\n",
    "        print(f'{key}: {value}')\n",
    "\n",
    "info(name='Alice',address='Wonderland',id=123,phone='1234567890',gender='F',age=25,x=1,y=2,z=3)\n"
   ]
  },
  {
   "cell_type": "code",
   "execution_count": null,
   "metadata": {},
   "outputs": [],
   "source": []
  }
 ],
 "metadata": {
  "kernelspec": {
   "display_name": "Python 3",
   "language": "python",
   "name": "python3"
  },
  "language_info": {
   "codemirror_mode": {
    "name": "ipython",
    "version": 3
   },
   "file_extension": ".py",
   "mimetype": "text/x-python",
   "name": "python",
   "nbconvert_exporter": "python",
   "pygments_lexer": "ipython3",
   "version": "3.10.2"
  }
 },
 "nbformat": 4,
 "nbformat_minor": 2
}
