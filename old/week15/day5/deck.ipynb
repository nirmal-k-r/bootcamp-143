{
 "cells": [
  {
   "cell_type": "code",
   "execution_count": 10,
   "metadata": {},
   "outputs": [],
   "source": [
    "class Card:\n",
    "    def __init__(self,suit,value):\n",
    "        self.suit = suit\n",
    "        self.value = value\n",
    "\n",
    "    def __str__(self):\n",
    "        return (f'Card: {self.value} of {self.suit}')"
   ]
  },
  {
   "cell_type": "code",
   "execution_count": 18,
   "metadata": {},
   "outputs": [
    {
     "name": "stdout",
     "output_type": "stream",
     "text": [
      "Deck 1 has 52 cards\n",
      "Drawed card: Card: A of Clubs\n",
      "Deck 1 has 51 cards\n",
      "Drawed card: Card: K of Clubs\n",
      "Deck 1 has 50 cards\n"
     ]
    }
   ],
   "source": [
    "import random\n",
    "\n",
    "class Deck:\n",
    "    def __init__(self,id):\n",
    "        self.id=id\n",
    "        self.cards=[]\n",
    "        self.populate()\n",
    "        self.shuffle()\n",
    "\n",
    "    def populate(self):\n",
    "        suits=['Hearts','Diamonds','Clubs','Spades']\n",
    "        values=['2','3','4','5','6','7','8','9','10','J','Q','K','A']\n",
    "\n",
    "        for suit in suits:\n",
    "            for value in values:\n",
    "                newCard=Card(suit,value)\n",
    "                self.cards.append(newCard)\n",
    "        # print(f'Deck {self.id} populated with {len(self.cards)} cards')\n",
    "\n",
    "    def shuffle(self):\n",
    "        random.shuffle(self.cards)\n",
    "\n",
    "    def draw(self):\n",
    "        return self.cards.pop()\n",
    "    \n",
    "    def details(self):\n",
    "        print(\"\\n\".join([str(card) for card in self.cards]))\n",
    "\n",
    "\n",
    "    def __str__(self):\n",
    "        return (f'Deck {self.id} has {len(self.cards)} cards')\n",
    "\n",
    "\n"
   ]
  },
  {
   "cell_type": "code",
   "execution_count": null,
   "metadata": {},
   "outputs": [],
   "source": [
    "#main program\n",
    "\n",
    "if __name__ == \"__main__\":\n",
    "    deck=Deck(1)\n",
    "    # print(deck.details())\n",
    "    print(deck)\n",
    "\n",
    "    print(f'Drawed card: {deck.draw()}')\n",
    "    print(deck)\n",
    "\n",
    "    print(f'Drawed card: {deck.draw()}')\n",
    "    print(deck)"
   ]
  },
  {
   "cell_type": "code",
   "execution_count": 12,
   "metadata": {},
   "outputs": [
    {
     "name": "stdout",
     "output_type": "stream",
     "text": [
      "Tomatoes,Milk,Bread,Eggs,Cheese\n"
     ]
    }
   ],
   "source": [
    "items=['tomatoes','milk','bread','eggs','cheese']\n",
    "\n",
    "# myitems=\"\"\n",
    "\n",
    "# for item in items:\n",
    "#     myitems=myitems+item+','\n",
    "\n",
    "# print(myitems)\n",
    "\n",
    "\n",
    "myitems2=\",\".join(str(item).capitalize() for item in items)\n",
    "print(myitems2)"
   ]
  }
 ],
 "metadata": {
  "kernelspec": {
   "display_name": "Python 3",
   "language": "python",
   "name": "python3"
  },
  "language_info": {
   "codemirror_mode": {
    "name": "ipython",
    "version": 3
   },
   "file_extension": ".py",
   "mimetype": "text/x-python",
   "name": "python",
   "nbconvert_exporter": "python",
   "pygments_lexer": "ipython3",
   "version": "3.10.2"
  }
 },
 "nbformat": 4,
 "nbformat_minor": 2
}
