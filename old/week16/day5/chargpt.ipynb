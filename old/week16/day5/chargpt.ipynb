{
 "cells": [
  {
   "cell_type": "code",
   "execution_count": null,
   "metadata": {},
   "outputs": [],
   "source": [
    "\n",
    "import openai\n",
    "model_engine = \"gpt-3.5-turbo\"\n",
    "\n",
    "#function to get the response from ChatGPT API\n",
    "def generate_response(prompt):\n",
    "    response = openai.ChatCompletion.create(\n",
    "        model=model_engine,\n",
    "        messages=[{\"role\": \"user\", \"content\": prompt }]\n",
    "    )\n",
    "    return response['choices'][0]['message']['content']\n",
    "\n",
    "#main program\n",
    "while True:\n",
    "    prompt=str(input(\"\\tYou: \"))\n",
    "    if prompt==\"exit\": #write exit to exit the program\n",
    "        break\n",
    "    try:\n",
    "        response=generate_response(prompt)\n",
    "        print(\"\\nChatGPT: {0}\".format(response))\n",
    "    except Exception as e:\n",
    "        print(e)\n",
    "        print(\"Error: {0}\".format(e))\n",
    "        continue\n",
    "\n",
    "print(\"End\")"
   ]
  }
 ],
 "metadata": {
  "kernelspec": {
   "display_name": "Python 3",
   "language": "python",
   "name": "python3"
  },
  "language_info": {
   "codemirror_mode": {
    "name": "ipython",
    "version": 3
   },
   "file_extension": ".py",
   "mimetype": "text/x-python",
   "name": "python",
   "nbconvert_exporter": "python",
   "pygments_lexer": "ipython3",
   "version": "3.10.2"
  }
 },
 "nbformat": 4,
 "nbformat_minor": 2
}
