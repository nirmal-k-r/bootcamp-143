{
 "cells": [
  {
   "cell_type": "code",
   "execution_count": 23,
   "metadata": {},
   "outputs": [
    {
     "name": "stdout",
     "output_type": "stream",
     "text": [
      "[10, 20]\n",
      "[20, 30]\n",
      "[30, 40]\n",
      "[40, 50]\n",
      "[50, 60]\n"
     ]
    }
   ],
   "source": [
    "#array\n",
    "\n",
    "enflish_marks=[10,20,30,40,50]\n",
    "french_marks=[20,30,40,50,60]\n",
    "\n",
    "#2d-array\n",
    "marks=[[10,20],[20,30],[30,40],[40,50],[50,60]]\n",
    "\n",
    "# for i in enflish_marks:\n",
    "#     print(i)\n",
    "\n",
    "\n",
    "for i in marks:\n",
    "    print(i)"
   ]
  },
  {
   "cell_type": "code",
   "execution_count": 24,
   "metadata": {},
   "outputs": [
    {
     "data": {
      "text/plain": [
       "array([10, 20, 30, 40, 50])"
      ]
     },
     "execution_count": 24,
     "metadata": {},
     "output_type": "execute_result"
    }
   ],
   "source": [
    "import numpy as np\n",
    "\n",
    "marks=[10,20,30,40,50]\n",
    "\n",
    "marks=np.array(marks)\n",
    "\n",
    "my_marks=np.array([10,20,30,40,50])\n",
    "\n",
    "my_marks"
   ]
  },
  {
   "cell_type": "code",
   "execution_count": 25,
   "metadata": {},
   "outputs": [
    {
     "name": "stdout",
     "output_type": "stream",
     "text": [
      "(5,)\n",
      "1\n",
      "5\n",
      "int64\n"
     ]
    }
   ],
   "source": [
    "marks=np.array([10,20,30,40,50])\n",
    "print(marks.shape)\n",
    "\n",
    "print(marks.ndim) #NUMBER OF DIMENSION\n",
    "print(marks.size) #NUMBER OF ELEMENTS\n",
    "\n",
    "print(marks.dtype) #DATA TYPE\n"
   ]
  },
  {
   "cell_type": "code",
   "execution_count": 26,
   "metadata": {},
   "outputs": [
    {
     "name": "stdout",
     "output_type": "stream",
     "text": [
      "[[ 10  20  30  40]\n",
      " [ 40  50  60  70]\n",
      " [ 70  80  90 100]]\n",
      "(3, 4)\n",
      "2\n",
      "12\n"
     ]
    }
   ],
   "source": [
    "all_marks=np.array([[10,20,30,40],[40,50,60,70],[70,80,90,100]])\n",
    "\n",
    "print(all_marks)\n",
    "print(all_marks.shape)\n",
    "print(all_marks.ndim)\n",
    "print(all_marks.size)"
   ]
  },
  {
   "cell_type": "code",
   "execution_count": 27,
   "metadata": {},
   "outputs": [
    {
     "name": "stdout",
     "output_type": "stream",
     "text": [
      "[[0. 0.]\n",
      " [0. 0.]\n",
      " [0. 0.]]\n"
     ]
    }
   ],
   "source": [
    "my_arr=np.zeros((3,2))\n",
    "print(my_arr)"
   ]
  },
  {
   "cell_type": "code",
   "execution_count": 28,
   "metadata": {},
   "outputs": [
    {
     "name": "stdout",
     "output_type": "stream",
     "text": [
      "[[1. 1.]\n",
      " [1. 1.]\n",
      " [1. 1.]]\n"
     ]
    }
   ],
   "source": [
    "my_arr=np.ones((3,2))\n",
    "print(my_arr)"
   ]
  },
  {
   "cell_type": "code",
   "execution_count": 29,
   "metadata": {},
   "outputs": [
    {
     "name": "stdout",
     "output_type": "stream",
     "text": [
      "float64\n",
      "int64\n"
     ]
    }
   ],
   "source": [
    "print(my_arr.dtype)\n",
    "my_arr= my_arr.astype(int) #change the data type\n",
    "print(my_arr.dtype)"
   ]
  },
  {
   "cell_type": "code",
   "execution_count": 31,
   "metadata": {},
   "outputs": [
    {
     "name": "stdout",
     "output_type": "stream",
     "text": [
      "20\n",
      "20\n"
     ]
    }
   ],
   "source": [
    "marks=[10,20,30,40,50]\n",
    "print(marks[1])\n",
    "\n",
    "marks=np.array([10,20,30,40,50])\n",
    "print(marks[1])"
   ]
  },
  {
   "cell_type": "code",
   "execution_count": 37,
   "metadata": {},
   "outputs": [
    {
     "name": "stdout",
     "output_type": "stream",
     "text": [
      "50\n",
      "90\n",
      "50\n",
      "90\n"
     ]
    }
   ],
   "source": [
    "all_marks=([[10,20,30,40],[40,50,60,70],[70,80,90,100]])\n",
    "print(all_marks[1][1])\n",
    "print(all_marks[2][2])\n",
    "\n",
    "\n",
    "all_marks=np.array([[10,20,30,40],[40,50,60,70],[70,80,90,100]])\n",
    "print(all_marks[1,1])\n",
    "print(all_marks[2,2])\n",
    "\n"
   ]
  },
  {
   "cell_type": "code",
   "execution_count": 42,
   "metadata": {},
   "outputs": [
    {
     "name": "stdout",
     "output_type": "stream",
     "text": [
      "[10, 20, 30]\n",
      "[30, 40, 50]\n",
      "[20, 30, 40]\n"
     ]
    }
   ],
   "source": [
    "marks=[10,20,30,40,50]\n",
    "\n",
    "print(marks[:3])\n",
    "print(marks[2:])\n",
    "print(marks[1:4])\n",
    "\n",
    "\n"
   ]
  },
  {
   "cell_type": "code",
   "execution_count": 43,
   "metadata": {},
   "outputs": [
    {
     "name": "stdout",
     "output_type": "stream",
     "text": [
      "[10 20 30]\n"
     ]
    }
   ],
   "source": [
    "marks=np.array([10,20,30,40,50])\n",
    "print(marks[:3])"
   ]
  },
  {
   "cell_type": "code",
   "execution_count": 51,
   "metadata": {},
   "outputs": [
    {
     "name": "stdout",
     "output_type": "stream",
     "text": [
      "[[ 10  20  30  40]\n",
      " [ 40  50  60  70]\n",
      " [ 70  80  90 100]]\n",
      "[[10 20]\n",
      " [40 50]]\n",
      "[[10 20]\n",
      " [40 50]]\n"
     ]
    }
   ],
   "source": [
    "all_marks=np.array([[10,20,30,40],[40,50,60,70],[70,80,90,100]])\n",
    "print(all_marks[:])\n",
    "\n",
    "print(all_marks[:2,:2])\n",
    "\n",
    "print(all_marks[:2,:2])\n",
    "\n"
   ]
  },
  {
   "cell_type": "code",
   "execution_count": 54,
   "metadata": {},
   "outputs": [
    {
     "name": "stdout",
     "output_type": "stream",
     "text": [
      "[[ 60  70]\n",
      " [ 90 100]]\n"
     ]
    }
   ],
   "source": [
    "print(all_marks[1:,2:])"
   ]
  },
  {
   "cell_type": "code",
   "execution_count": 59,
   "metadata": {},
   "outputs": [
    {
     "name": "stdout",
     "output_type": "stream",
     "text": [
      "[50 40 30 20 10]\n",
      "[[ 10  20  30  40]\n",
      " [ 40  50  60  70]\n",
      " [ 70  80  90 100]]\n",
      "[[100  90  80  70]\n",
      " [ 70  60  50  40]\n",
      " [ 40  30  20  10]]\n"
     ]
    }
   ],
   "source": [
    "array=np.array([10,20,30,40,50])\n",
    "print(array[::-1])\n",
    "\n",
    "all_marks=np.array([[10,20,30,40],[40,50,60,70],[70,80,90,100]])\n",
    "print(all_marks)\n",
    "print(all_marks[::-1,::-1])"
   ]
  },
  {
   "cell_type": "code",
   "execution_count": 100,
   "metadata": {},
   "outputs": [
    {
     "name": "stdout",
     "output_type": "stream",
     "text": [
      "[10 11 12 13 14 15 16 17 18 19 20]\n",
      "[1 3 5 7 9]\n",
      "[ 0.   2.5  5.   7.5 10. ]\n",
      "[[0.2215001  0.62029152]\n",
      " [0.10843132 0.03573678]]\n"
     ]
    }
   ],
   "source": [
    "sequence=np.arange(10,21)\n",
    "print(sequence)\n",
    "\n",
    "sequence=np.arange(1,10,2)\n",
    "print(sequence)\n",
    "\n",
    "split=np.linspace(0,10,5)\n",
    "print(split)\n",
    "\n",
    "random=np.random.rand(2,2)\n",
    "print(random)"
   ]
  },
  {
   "cell_type": "code",
   "execution_count": 134,
   "metadata": {},
   "outputs": [
    {
     "name": "stdout",
     "output_type": "stream",
     "text": [
      "[14 34 31  2 19  5]\n"
     ]
    }
   ],
   "source": [
    "random_integers = np.random.randint(0, 41, 6)\n",
    "\n",
    "print(random_integers) # [5, 1, 2, 7, 3]"
   ]
  },
  {
   "cell_type": "code",
   "execution_count": 136,
   "metadata": {},
   "outputs": [
    {
     "name": "stdout",
     "output_type": "stream",
     "text": [
      "[[10 20]\n",
      " [30 40]\n",
      " [50 60]]\n",
      "[[10 20 30]\n",
      " [40 50 60]]\n"
     ]
    }
   ],
   "source": [
    "marks=np.array([10,20,30,40,50,60])\n",
    "print(marks.reshape(3,2))\n",
    "print(marks.reshape(2,3))\n",
    "\n"
   ]
  },
  {
   "cell_type": "code",
   "execution_count": 137,
   "metadata": {},
   "outputs": [
    {
     "data": {
      "text/plain": [
       "array([[1., 0., 0., 0.],\n",
       "       [0., 1., 0., 0.],\n",
       "       [0., 0., 1., 0.],\n",
       "       [0., 0., 0., 1.]])"
      ]
     },
     "execution_count": 137,
     "metadata": {},
     "output_type": "execute_result"
    }
   ],
   "source": [
    "test=np.eye(4)\n",
    "test"
   ]
  },
  {
   "cell_type": "code",
   "execution_count": 139,
   "metadata": {},
   "outputs": [
    {
     "name": "stdout",
     "output_type": "stream",
     "text": [
      "[[1 2 3]\n",
      " [4 5 6]\n",
      " [7 8 9]]\n",
      "[4 5 6]\n"
     ]
    }
   ],
   "source": [
    "matrix = np.array([[1, 2, 3], [4, 5, 6], [7, 8, 9]])\n",
    "print(matrix)\n",
    "\n",
    "print(matrix[1])\n",
    "\n",
    "\n"
   ]
  },
  {
   "cell_type": "code",
   "execution_count": 147,
   "metadata": {},
   "outputs": [
    {
     "name": "stdout",
     "output_type": "stream",
     "text": [
      "[[1 2 3]\n",
      " [4 5 6]\n",
      " [7 8 9]]\n",
      "----\n",
      "[[3]\n",
      " [6]\n",
      " [9]]\n"
     ]
    }
   ],
   "source": [
    "matrix = np.array([[1, 2, 3], [4, 5, 6], [7, 8, 9]])\n",
    "print(matrix)\n",
    "\n",
    "print('----')\n",
    "print(matrix[:,2:])"
   ]
  },
  {
   "cell_type": "code",
   "execution_count": 150,
   "metadata": {},
   "outputs": [
    {
     "name": "stdout",
     "output_type": "stream",
     "text": [
      "[20 30 40 50 60 70]\n",
      "[ 0 10 20 30 40 50]\n",
      "[ 20  40  60  80 100 120]\n"
     ]
    }
   ],
   "source": [
    "marks=np.array([10,20,30,40,50,60])\n",
    "print(marks+10)\n",
    "print(marks-10)\n",
    "print(marks*2)"
   ]
  },
  {
   "cell_type": "code",
   "execution_count": 151,
   "metadata": {},
   "outputs": [
    {
     "name": "stdout",
     "output_type": "stream",
     "text": [
      "[15 26 37 48 59 70]\n"
     ]
    }
   ],
   "source": [
    "marks=np.array([10,20,30,40,50,60])\n",
    "marks2=np.array([5,6,7,8,9,10])\n",
    "\n",
    "marks3=marks+marks2\n",
    "print(marks3)"
   ]
  },
  {
   "cell_type": "code",
   "execution_count": 154,
   "metadata": {},
   "outputs": [
    {
     "name": "stdout",
     "output_type": "stream",
     "text": [
      "[[1 2 3]\n",
      " [4 5 6]\n",
      " [7 8 9]]\n",
      "----\n",
      "[[ 2  4  6]\n",
      " [ 8 10 12]\n",
      " [14 16 18]]\n",
      "[[ 1  4  9]\n",
      " [16 25 36]\n",
      " [49 64 81]]\n"
     ]
    }
   ],
   "source": [
    "matrix = np.array([[1, 2, 3], [4, 5, 6], [7, 8, 9]])\n",
    "matrix2= np.array([[1, 2, 3], [4, 5, 6], [7, 8, 9]])\n",
    "\n",
    "print(matrix)\n",
    "\n",
    "print('----')\n",
    "print(matrix+matrix2)\n",
    "print(matrix*matrix2)"
   ]
  },
  {
   "cell_type": "code",
   "execution_count": 156,
   "metadata": {},
   "outputs": [
    {
     "name": "stdout",
     "output_type": "stream",
     "text": [
      "[[ 1  4  9]\n",
      " [16 25 36]\n",
      " [49 64 81]]\n"
     ]
    }
   ],
   "source": [
    "matrix3=matrix*matrix2\n",
    "print(matrix3)"
   ]
  },
  {
   "cell_type": "code",
   "execution_count": 164,
   "metadata": {},
   "outputs": [
    {
     "name": "stdout",
     "output_type": "stream",
     "text": [
      "31.666666666666668\n",
      "81\n",
      "1\n",
      "285\n",
      "[[-4. -1.  4.]\n",
      " [11. 20. 31.]\n",
      " [44. 59. 76.]]\n"
     ]
    }
   ],
   "source": [
    "print(matrix3.mean())  \n",
    "print(matrix3.max())  \n",
    "print(matrix3.min())\n",
    "print(matrix3.sum())\n",
    "print(matrix3-matrix.mean())"
   ]
  },
  {
   "cell_type": "code",
   "execution_count": 168,
   "metadata": {},
   "outputs": [
    {
     "name": "stdout",
     "output_type": "stream",
     "text": [
      "[[7 8 9]\n",
      " [4 5 6]\n",
      " [1 2 3]]\n"
     ]
    }
   ],
   "source": [
    "matrix2 = np.array([[1, 2, 3], [4, 5, 6], [7, 8, 9]])\n",
    "\n",
    "matrix2[[2,0]]=matrix2[[0,2]]\n",
    "print(matrix2)"
   ]
  },
  {
   "cell_type": "code",
   "execution_count": 179,
   "metadata": {},
   "outputs": [
    {
     "name": "stdout",
     "output_type": "stream",
     "text": [
      "35.0\n",
      "35.0\n",
      "35.0\n",
      "[[1. 2. 3.]\n",
      " [4. 5. 6.]\n",
      " [7. 8. 9.]]\n"
     ]
    }
   ],
   "source": [
    "marks=np.array([10,20,30,40,50,60])\n",
    "\n",
    "print(marks.mean())\n",
    "\n",
    "print(np.mean(marks))\n",
    "\n",
    "print(np.median(marks))\n",
    "\n",
    "print(np.sqrt(matrix3))\n",
    "\n"
   ]
  },
  {
   "cell_type": "code",
   "execution_count": 180,
   "metadata": {},
   "outputs": [
    {
     "name": "stdout",
     "output_type": "stream",
     "text": [
      "sqrt(x, /, out=None, *, where=True, casting='same_kind', order='K', dtype=None, subok=True[, signature, extobj])\n",
      "\n",
      "Return the non-negative square-root of an array, element-wise.\n",
      "\n",
      "Parameters\n",
      "----------\n",
      "x : array_like\n",
      "    The values whose square-roots are required.\n",
      "out : ndarray, None, or tuple of ndarray and None, optional\n",
      "    A location into which the result is stored. If provided, it must have\n",
      "    a shape that the inputs broadcast to. If not provided or None,\n",
      "    a freshly-allocated array is returned. A tuple (possible only as a\n",
      "    keyword argument) must have length equal to the number of outputs.\n",
      "where : array_like, optional\n",
      "    This condition is broadcast over the input. At locations where the\n",
      "    condition is True, the `out` array will be set to the ufunc result.\n",
      "    Elsewhere, the `out` array will retain its original value.\n",
      "    Note that if an uninitialized `out` array is created via the default\n",
      "    ``out=None``, locations within it where the condition is False will\n",
      "    remain uninitialized.\n",
      "**kwargs\n",
      "    For other keyword-only arguments, see the\n",
      "    :ref:`ufunc docs <ufuncs.kwargs>`.\n",
      "\n",
      "Returns\n",
      "-------\n",
      "y : ndarray\n",
      "    An array of the same shape as `x`, containing the positive\n",
      "    square-root of each element in `x`.  If any element in `x` is\n",
      "    complex, a complex array is returned (and the square-roots of\n",
      "    negative reals are calculated).  If all of the elements in `x`\n",
      "    are real, so is `y`, with negative elements returning ``nan``.\n",
      "    If `out` was provided, `y` is a reference to it.\n",
      "    This is a scalar if `x` is a scalar.\n",
      "\n",
      "See Also\n",
      "--------\n",
      "emath.sqrt\n",
      "    A version which returns complex numbers when given negative reals.\n",
      "    Note that 0.0 and -0.0 are handled differently for complex inputs.\n",
      "\n",
      "Notes\n",
      "-----\n",
      "*sqrt* has--consistent with common convention--as its branch cut the\n",
      "real \"interval\" [`-inf`, 0), and is continuous from above on it.\n",
      "A branch cut is a curve in the complex plane across which a given\n",
      "complex function fails to be continuous.\n",
      "\n",
      "Examples\n",
      "--------\n",
      ">>> np.sqrt([1,4,9])\n",
      "array([ 1.,  2.,  3.])\n",
      "\n",
      ">>> np.sqrt([4, -1, -3+4J])\n",
      "array([ 2.+0.j,  0.+1.j,  1.+2.j])\n",
      "\n",
      ">>> np.sqrt([4, -1, np.inf])\n",
      "array([ 2., nan, inf])\n"
     ]
    }
   ],
   "source": [
    "print(np.sqrt.__doc__)"
   ]
  },
  {
   "cell_type": "code",
   "execution_count": 189,
   "metadata": {},
   "outputs": [
    {
     "name": "stdout",
     "output_type": "stream",
     "text": [
      "[[1 0 2]\n",
      " [1 0 0]\n",
      " [0 0 1]]\n",
      "(array([0, 0, 1, 2]), array([0, 2, 0, 2]))\n"
     ]
    }
   ],
   "source": [
    "data=np.array([[1,0,2],[1,0,0],[0,0,1]])\n",
    "print(data)\n",
    "\n",
    "# print(data.nonzero())\n",
    "print(np.nonzero(data))\n",
    "\n",
    "\n"
   ]
  },
  {
   "cell_type": "code",
   "execution_count": 191,
   "metadata": {},
   "outputs": [
    {
     "name": "stdout",
     "output_type": "stream",
     "text": [
      "(array([1, 2, 4, 5]),)\n"
     ]
    }
   ],
   "source": [
    "data=np.array([0,1,2,0,3,100,0])\n",
    "\n",
    "print(data.nonzero())"
   ]
  },
  {
   "cell_type": "code",
   "execution_count": 193,
   "metadata": {},
   "outputs": [
    {
     "name": "stdout",
     "output_type": "stream",
     "text": [
      "[2 1 1 1 2 1]\n"
     ]
    }
   ],
   "source": [
    "array=np.array([2,4,4,1,3,5,0,0])\n",
    "\n",
    "print(np.bincount(array))   "
   ]
  },
  {
   "cell_type": "code",
   "execution_count": 195,
   "metadata": {},
   "outputs": [
    {
     "name": "stdout",
     "output_type": "stream",
     "text": [
      "[0 0 1 2 3 4 4 5]\n",
      "[0, 0, 1, 2, 3, 4, 4, 5]\n"
     ]
    }
   ],
   "source": [
    "bincount=np.bincount(array)\n",
    "recreated_array = np.repeat(np.arange(len(bincount)), bincount)\n",
    "print(recreated_array)\n",
    "print(sorted(array))\n",
    "\n"
   ]
  }
 ],
 "metadata": {
  "kernelspec": {
   "display_name": "Python 3",
   "language": "python",
   "name": "python3"
  },
  "language_info": {
   "codemirror_mode": {
    "name": "ipython",
    "version": 3
   },
   "file_extension": ".py",
   "mimetype": "text/x-python",
   "name": "python",
   "nbconvert_exporter": "python",
   "pygments_lexer": "ipython3",
   "version": "3.10.2"
  }
 },
 "nbformat": 4,
 "nbformat_minor": 2
}
