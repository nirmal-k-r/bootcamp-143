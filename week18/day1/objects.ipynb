{
 "cells": [
  {
   "cell_type": "code",
   "execution_count": 28,
   "metadata": {},
   "outputs": [
    {
     "name": "stdout",
     "output_type": "stream",
     "text": [
      "John\n",
      "123456789V\n",
      "{ name: \"John\", age: 30, hobbies: [ \"reading\", \"cooking\" ] }\n"
     ]
    }
   ],
   "source": [
    "let myperson = {\n",
    "    nic: '123456789V',\n",
    "    name: 'John',\n",
    "    age: 30,\n",
    "    hobbies: ['reading', 'cooking']\n",
    "}\n",
    "\n",
    "console.log(myperson.name) // John\n",
    "\n",
    "\n",
    "let { nic, ...otherDetails } = myperson;\n",
    "\n",
    "console.log(nic) // 123456789V\n",
    "console.log(otherDetails) // { name: 'John', age: 30, hobbies: [ 'reading', 'cooking' ] }\n",
    " "
   ]
  },
  {
   "cell_type": "code",
   "execution_count": 29,
   "metadata": {},
   "outputs": [
    {
     "name": "stdout",
     "output_type": "stream",
     "text": [
      "John Doe\n"
     ]
    }
   ],
   "source": [
    "let person2=myperson;\n",
    "person2.name=\"John Doe\";\n",
    "\n",
    "console.log(myperson.name) // John Doe"
   ]
  },
  {
   "cell_type": "code",
   "execution_count": 30,
   "metadata": {},
   "outputs": [
    {
     "name": "stdout",
     "output_type": "stream",
     "text": [
      "John Doe\n"
     ]
    }
   ],
   "source": [
    "let person3={...myperson};\n",
    "person3.name=\"Jane Doe\";\n",
    "console.log(myperson.name) // John Doe"
   ]
  },
  {
   "cell_type": "code",
   "execution_count": 31,
   "metadata": {},
   "outputs": [],
   "source": [
    "class Car{\n",
    "    constructor(regNo, make,model, color){\n",
    "        this.regNo=regNo;\n",
    "        this.make=make;\n",
    "        this.model=model;\n",
    "        this.color=color;\n",
    "        this.fuel=10;\n",
    "        this.m1l=0;\n",
    "    }\n",
    "\n",
    "    get mileage(){ \n",
    "        return this.m1l;\n",
    "    }\n",
    "\n",
    "\n",
    "    getCarDetails(){\n",
    "        console.log(`Car Details: ${this.regNo} ${this.make} ${this.model} ${this.color}`);\n",
    "    }\n",
    "\n",
    "    refuel(amount){\n",
    "        this.fuel+=amount;\n",
    "        console.log(`Fuel after refueling: ${this.fuel}`);\n",
    "    }\n",
    "\n",
    "    drive(distance){\n",
    "        this.fuel= this.fuel - distance/10;\n",
    "        this.m1l+=distance;\n",
    "        console.log(`Fuel after driving: ${this.fuel}`);\n",
    "    }\n",
    "}\n",
    "\n"
   ]
  },
  {
   "cell_type": "code",
   "execution_count": 32,
   "metadata": {},
   "outputs": [
    {
     "name": "stdout",
     "output_type": "stream",
     "text": [
      "Car Details: 12 Sp 24 Toyota Corolla Red\n",
      "Fuel after refueling: 30\n",
      "Fuel after driving: 20\n",
      "100\n"
     ]
    }
   ],
   "source": [
    "let car1=new Car(\"12 Sp 24\",\"Toyota\",\"Corolla\",\"Red\");\n",
    "\n",
    "car1.getCarDetails(); \n",
    "\n",
    "car1.refuel(20);\n",
    "car1.drive(100);\n",
    "\n",
    "console.log(car1.mileage); // 100\n"
   ]
  },
  {
   "cell_type": "code",
   "execution_count": 34,
   "metadata": {},
   "outputs": [
    {
     "name": "stdout",
     "output_type": "stream",
     "text": [
      "Car Details: 12 Sp 25 Tesla Model S Black\n",
      "Battery after charging: 100\n",
      "Battery after driving: 90\n"
     ]
    }
   ],
   "source": [
    "class ElectricCar extends Car{\n",
    "    constructor(regNo, make,model, color){\n",
    "        super(regNo, make,model, color);\n",
    "        this.battery=100;\n",
    "    }\n",
    "\n",
    "    charge(){\n",
    "        this.battery=100;\n",
    "        console.log(`Battery after charging: ${this.battery}`);\n",
    "    }\n",
    "\n",
    "    drive(distance){\n",
    "        this.battery= this.battery - distance/10;\n",
    "        this.m1l+=distance;\n",
    "        console.log(`Battery after driving: ${this.battery}`);\n",
    "    }\n",
    "}\n",
    "\n",
    "let car3=new ElectricCar(\"12 Sp 25\",\"Tesla\",\"Model S\",\"Black\");\n",
    "car3.getCarDetails();\n",
    "car3.charge();\n",
    "car3.drive(100);"
   ]
  }
 ],
 "metadata": {
  "kernelspec": {
   "display_name": "Deno",
   "language": "typescript",
   "name": "deno"
  },
  "language_info": {
   "codemirror_mode": "typescript",
   "file_extension": ".ts",
   "mimetype": "text/x.typescript",
   "name": "typescript",
   "nbconvert_exporter": "script",
   "pygments_lexer": "typescript",
   "version": "5.5.2"
  }
 },
 "nbformat": 4,
 "nbformat_minor": 2
}
