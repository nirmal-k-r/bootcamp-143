{
 "cells": [
  {
   "cell_type": "code",
   "execution_count": 7,
   "metadata": {},
   "outputs": [
    {
     "ename": "ReferenceError",
     "evalue": "consple is not defined",
     "output_type": "error",
     "traceback": [
      "Stack trace:",
      "ReferenceError: consple is not defined",
      "    at <anonymous>:1:22"
     ]
    }
   ],
   "source": [
    "consple.log('test'); //syntax error\n"
   ]
  },
  {
   "cell_type": "code",
   "execution_count": 6,
   "metadata": {},
   "outputs": [
    {
     "name": "stdout",
     "output_type": "stream",
     "text": [
      "test\n",
      "test\n",
      "test\n"
     ]
    },
    {
     "ename": "Error",
     "evalue": "error",
     "output_type": "error",
     "traceback": [
      "Stack trace:",
      "Error: error",
      "    at <anonymous>:6:7"
     ]
    }
   ],
   "source": [
    "console.log('test');\n",
    "console.log('test');\n",
    "console.log('test');\n",
    "let i=0;\n",
    "// let result=5/i; //logical error\n",
    "throw new Error('error'); //simulating runtime error\n",
    "\n",
    "console.log('program ends');"
   ]
  },
  {
   "cell_type": "code",
   "execution_count": 12,
   "metadata": {},
   "outputs": [
    {
     "name": "stdout",
     "output_type": "stream",
     "text": [
      "test\n",
      "test\n",
      "test\n",
      "always executed\n",
      "program ends\n"
     ]
    }
   ],
   "source": [
    "console.log('test');\n",
    "console.log('test');\n",
    "console.log('test');\n",
    "try{\n",
    "    let i=0;\n",
    "    // let result=5/i; //logical error\n",
    "    throw new Error('error'); //simulating runtime error \n",
    "}catch(err){\n",
    "    console.log('an error occured');\n",
    "}finally{\n",
    "    console.log('always executed');\n",
    "}\n",
    "\n",
    "console.log('program ends');"
   ]
  },
  {
   "cell_type": "code",
   "execution_count": 3,
   "metadata": {},
   "outputs": [
    {
     "name": "stdout",
     "output_type": "stream",
     "text": [
      "test\n",
      "test\n",
      "test\n",
      "an error occured\n",
      "this is a custom  ref error message\n",
      "always executed\n",
      "program ends\n"
     ]
    }
   ],
   "source": [
    "console.log('test');\n",
    "console.log('test');\n",
    "console.log('test');\n",
    "try{\n",
    "    let i=0;\n",
    "    // let result=5/i; //logical error\n",
    "    throw new Error('this is a custom  ref error message'); //simulating runtime error \n",
    "}catch(err){\n",
    "    console.log('an error occured');\n",
    "    console.log(err.message);\n",
    "}finally{\n",
    "    console.log('always executed');\n",
    "}\n",
    "\n",
    "console.log('program ends');"
   ]
  },
  {
   "cell_type": "code",
   "execution_count": null,
   "metadata": {},
   "outputs": [],
   "source": []
  }
 ],
 "metadata": {
  "kernelspec": {
   "display_name": "Deno",
   "language": "typescript",
   "name": "deno"
  },
  "language_info": {
   "codemirror_mode": "typescript",
   "file_extension": ".ts",
   "mimetype": "text/x.typescript",
   "name": "typescript",
   "nbconvert_exporter": "script",
   "pygments_lexer": "typescript",
   "version": "5.5.2"
  }
 },
 "nbformat": 4,
 "nbformat_minor": 2
}
